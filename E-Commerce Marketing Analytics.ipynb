{
 "cells": [
  {
   "cell_type": "code",
   "execution_count": 1,
   "id": "eeaa06fc",
   "metadata": {},
   "outputs": [],
   "source": [
    "import pandas as pd\n",
    "import numpy as np\n",
    "import matplotlib.pyplot as plt\n",
    "import seaborn as sns"
   ]
  },
  {
   "cell_type": "code",
   "execution_count": 2,
   "id": "e5f294d9",
   "metadata": {},
   "outputs": [],
   "source": [
    "GEO_LOCATION = pd.read_csv(\"GEO_LOCATION.csv\")"
   ]
  },
  {
   "cell_type": "code",
   "execution_count": 3,
   "id": "bef627bf",
   "metadata": {},
   "outputs": [
    {
     "data": {
      "text/html": [
       "<div>\n",
       "<style scoped>\n",
       "    .dataframe tbody tr th:only-of-type {\n",
       "        vertical-align: middle;\n",
       "    }\n",
       "\n",
       "    .dataframe tbody tr th {\n",
       "        vertical-align: top;\n",
       "    }\n",
       "\n",
       "    .dataframe thead th {\n",
       "        text-align: right;\n",
       "    }\n",
       "</style>\n",
       "<table border=\"1\" class=\"dataframe\">\n",
       "  <thead>\n",
       "    <tr style=\"text-align: right;\">\n",
       "      <th></th>\n",
       "      <th>geolocation_zip_code_prefix</th>\n",
       "      <th>geolocation_lat</th>\n",
       "      <th>geolocation_lng</th>\n",
       "      <th>geolocation_city</th>\n",
       "      <th>geolocation_state</th>\n",
       "    </tr>\n",
       "  </thead>\n",
       "  <tbody>\n",
       "    <tr>\n",
       "      <th>0</th>\n",
       "      <td>1037</td>\n",
       "      <td>-23.545621</td>\n",
       "      <td>-46.639292</td>\n",
       "      <td>Akkarampalle</td>\n",
       "      <td>Andhra Pradesh</td>\n",
       "    </tr>\n",
       "    <tr>\n",
       "      <th>1</th>\n",
       "      <td>1046</td>\n",
       "      <td>-23.546081</td>\n",
       "      <td>-46.644820</td>\n",
       "      <td>Akkarampalle</td>\n",
       "      <td>Andhra Pradesh</td>\n",
       "    </tr>\n",
       "  </tbody>\n",
       "</table>\n",
       "</div>"
      ],
      "text/plain": [
       "   geolocation_zip_code_prefix  geolocation_lat  geolocation_lng  \\\n",
       "0                         1037       -23.545621       -46.639292   \n",
       "1                         1046       -23.546081       -46.644820   \n",
       "\n",
       "  geolocation_city geolocation_state  \n",
       "0     Akkarampalle    Andhra Pradesh  \n",
       "1     Akkarampalle    Andhra Pradesh  "
      ]
     },
     "execution_count": 3,
     "metadata": {},
     "output_type": "execute_result"
    }
   ],
   "source": [
    "GEO_LOCATION.head(2)"
   ]
  },
  {
   "cell_type": "code",
   "execution_count": 4,
   "id": "f7ab83d5",
   "metadata": {},
   "outputs": [
    {
     "name": "stdout",
     "output_type": "stream",
     "text": [
      "<class 'pandas.core.frame.DataFrame'>\n",
      "RangeIndex: 19015 entries, 0 to 19014\n",
      "Data columns (total 5 columns):\n",
      " #   Column                       Non-Null Count  Dtype  \n",
      "---  ------                       --------------  -----  \n",
      " 0   geolocation_zip_code_prefix  19015 non-null  int64  \n",
      " 1   geolocation_lat              19015 non-null  float64\n",
      " 2   geolocation_lng              19015 non-null  float64\n",
      " 3   geolocation_city             19015 non-null  object \n",
      " 4   geolocation_state            19015 non-null  object \n",
      "dtypes: float64(2), int64(1), object(2)\n",
      "memory usage: 742.9+ KB\n"
     ]
    }
   ],
   "source": [
    "GEO_LOCATION.info()"
   ]
  },
  {
   "cell_type": "code",
   "execution_count": 5,
   "id": "1b7d646c",
   "metadata": {},
   "outputs": [],
   "source": [
    "ORDER_PAYMENTS = pd.read_csv(\"ORDER_PAYMENTS.csv\")"
   ]
  },
  {
   "cell_type": "code",
   "execution_count": 6,
   "id": "fff3be5a",
   "metadata": {},
   "outputs": [
    {
     "data": {
      "text/html": [
       "<div>\n",
       "<style scoped>\n",
       "    .dataframe tbody tr th:only-of-type {\n",
       "        vertical-align: middle;\n",
       "    }\n",
       "\n",
       "    .dataframe tbody tr th {\n",
       "        vertical-align: top;\n",
       "    }\n",
       "\n",
       "    .dataframe thead th {\n",
       "        text-align: right;\n",
       "    }\n",
       "</style>\n",
       "<table border=\"1\" class=\"dataframe\">\n",
       "  <thead>\n",
       "    <tr style=\"text-align: right;\">\n",
       "      <th></th>\n",
       "      <th>order_id</th>\n",
       "      <th>payment_sequential</th>\n",
       "      <th>payment_type</th>\n",
       "      <th>payment_installments</th>\n",
       "      <th>payment_value</th>\n",
       "    </tr>\n",
       "  </thead>\n",
       "  <tbody>\n",
       "    <tr>\n",
       "      <th>0</th>\n",
       "      <td>b81ef226f3fe1789b1e8b2acac839d17</td>\n",
       "      <td>1</td>\n",
       "      <td>credit_card</td>\n",
       "      <td>8</td>\n",
       "      <td>99.33</td>\n",
       "    </tr>\n",
       "    <tr>\n",
       "      <th>1</th>\n",
       "      <td>a9810da82917af2d9aefd1278f1dcfa0</td>\n",
       "      <td>1</td>\n",
       "      <td>credit_card</td>\n",
       "      <td>1</td>\n",
       "      <td>24.39</td>\n",
       "    </tr>\n",
       "  </tbody>\n",
       "</table>\n",
       "</div>"
      ],
      "text/plain": [
       "                           order_id  payment_sequential payment_type  \\\n",
       "0  b81ef226f3fe1789b1e8b2acac839d17                   1  credit_card   \n",
       "1  a9810da82917af2d9aefd1278f1dcfa0                   1  credit_card   \n",
       "\n",
       "   payment_installments  payment_value  \n",
       "0                     8          99.33  \n",
       "1                     1          24.39  "
      ]
     },
     "execution_count": 6,
     "metadata": {},
     "output_type": "execute_result"
    }
   ],
   "source": [
    "ORDER_PAYMENTS.head(2)"
   ]
  },
  {
   "cell_type": "code",
   "execution_count": 7,
   "id": "4a905050",
   "metadata": {},
   "outputs": [
    {
     "name": "stdout",
     "output_type": "stream",
     "text": [
      "<class 'pandas.core.frame.DataFrame'>\n",
      "RangeIndex: 103886 entries, 0 to 103885\n",
      "Data columns (total 5 columns):\n",
      " #   Column                Non-Null Count   Dtype  \n",
      "---  ------                --------------   -----  \n",
      " 0   order_id              103886 non-null  object \n",
      " 1   payment_sequential    103886 non-null  int64  \n",
      " 2   payment_type          103886 non-null  object \n",
      " 3   payment_installments  103886 non-null  int64  \n",
      " 4   payment_value         103886 non-null  float64\n",
      "dtypes: float64(1), int64(2), object(2)\n",
      "memory usage: 4.0+ MB\n"
     ]
    }
   ],
   "source": [
    "ORDER_PAYMENTS.info()"
   ]
  },
  {
   "cell_type": "code",
   "execution_count": 8,
   "id": "f4db9862",
   "metadata": {},
   "outputs": [],
   "source": [
    "ORDER_REVIEW_RATINGS = pd.read_csv(\"ORDER_REVIEW_RATINGS.csv\")"
   ]
  },
  {
   "cell_type": "code",
   "execution_count": 9,
   "id": "2ce0cbb4",
   "metadata": {},
   "outputs": [
    {
     "data": {
      "text/html": [
       "<div>\n",
       "<style scoped>\n",
       "    .dataframe tbody tr th:only-of-type {\n",
       "        vertical-align: middle;\n",
       "    }\n",
       "\n",
       "    .dataframe tbody tr th {\n",
       "        vertical-align: top;\n",
       "    }\n",
       "\n",
       "    .dataframe thead th {\n",
       "        text-align: right;\n",
       "    }\n",
       "</style>\n",
       "<table border=\"1\" class=\"dataframe\">\n",
       "  <thead>\n",
       "    <tr style=\"text-align: right;\">\n",
       "      <th></th>\n",
       "      <th>review_id</th>\n",
       "      <th>order_id</th>\n",
       "      <th>review_score</th>\n",
       "      <th>review_creation_date</th>\n",
       "      <th>review_answer_timestamp</th>\n",
       "    </tr>\n",
       "  </thead>\n",
       "  <tbody>\n",
       "    <tr>\n",
       "      <th>0</th>\n",
       "      <td>7bc2406110b926393aa56f80a40eba40</td>\n",
       "      <td>73fc7af87114b39712e6da79b0a377eb</td>\n",
       "      <td>4</td>\n",
       "      <td>1/18/2018 0:00</td>\n",
       "      <td>1/18/2018 21:46</td>\n",
       "    </tr>\n",
       "    <tr>\n",
       "      <th>1</th>\n",
       "      <td>80e641a11e56f04c1ad469d5645fdfde</td>\n",
       "      <td>a548910a1c6147796b98fdf73dbeba33</td>\n",
       "      <td>5</td>\n",
       "      <td>3/10/2018 0:00</td>\n",
       "      <td>3/11/2018 3:05</td>\n",
       "    </tr>\n",
       "  </tbody>\n",
       "</table>\n",
       "</div>"
      ],
      "text/plain": [
       "                          review_id                          order_id  \\\n",
       "0  7bc2406110b926393aa56f80a40eba40  73fc7af87114b39712e6da79b0a377eb   \n",
       "1  80e641a11e56f04c1ad469d5645fdfde  a548910a1c6147796b98fdf73dbeba33   \n",
       "\n",
       "   review_score review_creation_date review_answer_timestamp  \n",
       "0             4       1/18/2018 0:00         1/18/2018 21:46  \n",
       "1             5       3/10/2018 0:00          3/11/2018 3:05  "
      ]
     },
     "execution_count": 9,
     "metadata": {},
     "output_type": "execute_result"
    }
   ],
   "source": [
    "ORDER_REVIEW_RATINGS.head(2)"
   ]
  },
  {
   "cell_type": "code",
   "execution_count": 10,
   "id": "e04b9294",
   "metadata": {},
   "outputs": [
    {
     "name": "stdout",
     "output_type": "stream",
     "text": [
      "<class 'pandas.core.frame.DataFrame'>\n",
      "RangeIndex: 100000 entries, 0 to 99999\n",
      "Data columns (total 5 columns):\n",
      " #   Column                   Non-Null Count   Dtype \n",
      "---  ------                   --------------   ----- \n",
      " 0   review_id                100000 non-null  object\n",
      " 1   order_id                 100000 non-null  object\n",
      " 2   review_score             100000 non-null  int64 \n",
      " 3   review_creation_date     100000 non-null  object\n",
      " 4   review_answer_timestamp  100000 non-null  object\n",
      "dtypes: int64(1), object(4)\n",
      "memory usage: 3.8+ MB\n"
     ]
    }
   ],
   "source": [
    "ORDER_REVIEW_RATINGS.info()"
   ]
  },
  {
   "cell_type": "code",
   "execution_count": 11,
   "id": "21fd05a4",
   "metadata": {},
   "outputs": [],
   "source": [
    "ORDERS = pd.read_csv(\"ORDERS.csv\")"
   ]
  },
  {
   "cell_type": "code",
   "execution_count": 12,
   "id": "338de704",
   "metadata": {},
   "outputs": [
    {
     "data": {
      "text/html": [
       "<div>\n",
       "<style scoped>\n",
       "    .dataframe tbody tr th:only-of-type {\n",
       "        vertical-align: middle;\n",
       "    }\n",
       "\n",
       "    .dataframe tbody tr th {\n",
       "        vertical-align: top;\n",
       "    }\n",
       "\n",
       "    .dataframe thead th {\n",
       "        text-align: right;\n",
       "    }\n",
       "</style>\n",
       "<table border=\"1\" class=\"dataframe\">\n",
       "  <thead>\n",
       "    <tr style=\"text-align: right;\">\n",
       "      <th></th>\n",
       "      <th>order_id</th>\n",
       "      <th>customer_id</th>\n",
       "      <th>order_status</th>\n",
       "      <th>order_purchase_timestamp</th>\n",
       "      <th>order_approved_at</th>\n",
       "      <th>order_delivered_carrier_date</th>\n",
       "      <th>order_delivered_customer_date</th>\n",
       "      <th>order_estimated_delivery_date</th>\n",
       "    </tr>\n",
       "  </thead>\n",
       "  <tbody>\n",
       "    <tr>\n",
       "      <th>0</th>\n",
       "      <td>e481f51cbdc54678b7cc49136f2d6af7</td>\n",
       "      <td>9ef432eb6251297304e76186b10a928d</td>\n",
       "      <td>delivered</td>\n",
       "      <td>10/2/2017 10:56</td>\n",
       "      <td>10/2/2017 11:07</td>\n",
       "      <td>10/4/2017 19:55</td>\n",
       "      <td>10/10/2017 21:25</td>\n",
       "      <td>10/18/2017 0:00</td>\n",
       "    </tr>\n",
       "    <tr>\n",
       "      <th>1</th>\n",
       "      <td>53cdb2fc8bc7dce0b6741e2150273451</td>\n",
       "      <td>b0830fb4747a6c6d20dea0b8c802d7ef</td>\n",
       "      <td>delivered</td>\n",
       "      <td>7/24/2018 20:41</td>\n",
       "      <td>7/26/2018 3:24</td>\n",
       "      <td>7/26/2018 14:31</td>\n",
       "      <td>8/7/2018 15:27</td>\n",
       "      <td>8/13/2018 0:00</td>\n",
       "    </tr>\n",
       "  </tbody>\n",
       "</table>\n",
       "</div>"
      ],
      "text/plain": [
       "                           order_id                       customer_id  \\\n",
       "0  e481f51cbdc54678b7cc49136f2d6af7  9ef432eb6251297304e76186b10a928d   \n",
       "1  53cdb2fc8bc7dce0b6741e2150273451  b0830fb4747a6c6d20dea0b8c802d7ef   \n",
       "\n",
       "  order_status order_purchase_timestamp order_approved_at  \\\n",
       "0    delivered          10/2/2017 10:56   10/2/2017 11:07   \n",
       "1    delivered          7/24/2018 20:41    7/26/2018 3:24   \n",
       "\n",
       "  order_delivered_carrier_date order_delivered_customer_date  \\\n",
       "0              10/4/2017 19:55              10/10/2017 21:25   \n",
       "1              7/26/2018 14:31                8/7/2018 15:27   \n",
       "\n",
       "  order_estimated_delivery_date  \n",
       "0               10/18/2017 0:00  \n",
       "1                8/13/2018 0:00  "
      ]
     },
     "execution_count": 12,
     "metadata": {},
     "output_type": "execute_result"
    }
   ],
   "source": [
    "ORDERS.head(2)"
   ]
  },
  {
   "cell_type": "code",
   "execution_count": 13,
   "id": "31acdbc2",
   "metadata": {},
   "outputs": [
    {
     "name": "stdout",
     "output_type": "stream",
     "text": [
      "<class 'pandas.core.frame.DataFrame'>\n",
      "RangeIndex: 99441 entries, 0 to 99440\n",
      "Data columns (total 8 columns):\n",
      " #   Column                         Non-Null Count  Dtype \n",
      "---  ------                         --------------  ----- \n",
      " 0   order_id                       99441 non-null  object\n",
      " 1   customer_id                    99441 non-null  object\n",
      " 2   order_status                   99441 non-null  object\n",
      " 3   order_purchase_timestamp       99441 non-null  object\n",
      " 4   order_approved_at              99281 non-null  object\n",
      " 5   order_delivered_carrier_date   97658 non-null  object\n",
      " 6   order_delivered_customer_date  96476 non-null  object\n",
      " 7   order_estimated_delivery_date  99441 non-null  object\n",
      "dtypes: object(8)\n",
      "memory usage: 6.1+ MB\n"
     ]
    }
   ],
   "source": [
    "ORDERS.info()"
   ]
  },
  {
   "cell_type": "code",
   "execution_count": 14,
   "id": "7314d70b",
   "metadata": {},
   "outputs": [
    {
     "data": {
      "text/plain": [
       "order_id                            0\n",
       "customer_id                         0\n",
       "order_status                        0\n",
       "order_purchase_timestamp            0\n",
       "order_approved_at                 160\n",
       "order_delivered_carrier_date     1783\n",
       "order_delivered_customer_date    2965\n",
       "order_estimated_delivery_date       0\n",
       "dtype: int64"
      ]
     },
     "execution_count": 14,
     "metadata": {},
     "output_type": "execute_result"
    }
   ],
   "source": [
    "ORDERS.isnull().sum()"
   ]
  },
  {
   "cell_type": "code",
   "execution_count": 15,
   "id": "f2a59f9c",
   "metadata": {},
   "outputs": [],
   "source": [
    "ORDERS = ORDERS.drop(columns = ['order_approved_at','order_delivered_carrier_date','order_delivered_customer_date','order_estimated_delivery_date'])"
   ]
  },
  {
   "cell_type": "code",
   "execution_count": 16,
   "id": "25fcbadf",
   "metadata": {},
   "outputs": [],
   "source": [
    "PRODUCTS = pd.read_csv(\"PRODUCTS.csv\")"
   ]
  },
  {
   "cell_type": "code",
   "execution_count": 17,
   "id": "abc14a0d",
   "metadata": {},
   "outputs": [
    {
     "data": {
      "text/html": [
       "<div>\n",
       "<style scoped>\n",
       "    .dataframe tbody tr th:only-of-type {\n",
       "        vertical-align: middle;\n",
       "    }\n",
       "\n",
       "    .dataframe tbody tr th {\n",
       "        vertical-align: top;\n",
       "    }\n",
       "\n",
       "    .dataframe thead th {\n",
       "        text-align: right;\n",
       "    }\n",
       "</style>\n",
       "<table border=\"1\" class=\"dataframe\">\n",
       "  <thead>\n",
       "    <tr style=\"text-align: right;\">\n",
       "      <th></th>\n",
       "      <th>product_id</th>\n",
       "      <th>product_category_name</th>\n",
       "      <th>product_name_lenght</th>\n",
       "      <th>product_description_lenght</th>\n",
       "      <th>product_photos_qty</th>\n",
       "      <th>product_weight_g</th>\n",
       "      <th>product_length_cm</th>\n",
       "      <th>product_height_cm</th>\n",
       "      <th>product_width_cm</th>\n",
       "    </tr>\n",
       "  </thead>\n",
       "  <tbody>\n",
       "    <tr>\n",
       "      <th>0</th>\n",
       "      <td>1e9e8ef04dbcff4541ed26657ea517e5</td>\n",
       "      <td>Perfumery</td>\n",
       "      <td>40.0</td>\n",
       "      <td>287.0</td>\n",
       "      <td>1.0</td>\n",
       "      <td>225.0</td>\n",
       "      <td>16.0</td>\n",
       "      <td>10.0</td>\n",
       "      <td>14.0</td>\n",
       "    </tr>\n",
       "    <tr>\n",
       "      <th>1</th>\n",
       "      <td>3aa071139cb16b67ca9e5dea641aaa2f</td>\n",
       "      <td>Art</td>\n",
       "      <td>44.0</td>\n",
       "      <td>276.0</td>\n",
       "      <td>1.0</td>\n",
       "      <td>1000.0</td>\n",
       "      <td>30.0</td>\n",
       "      <td>18.0</td>\n",
       "      <td>20.0</td>\n",
       "    </tr>\n",
       "  </tbody>\n",
       "</table>\n",
       "</div>"
      ],
      "text/plain": [
       "                         product_id product_category_name  \\\n",
       "0  1e9e8ef04dbcff4541ed26657ea517e5             Perfumery   \n",
       "1  3aa071139cb16b67ca9e5dea641aaa2f                   Art   \n",
       "\n",
       "   product_name_lenght  product_description_lenght  product_photos_qty  \\\n",
       "0                 40.0                       287.0                 1.0   \n",
       "1                 44.0                       276.0                 1.0   \n",
       "\n",
       "   product_weight_g  product_length_cm  product_height_cm  product_width_cm  \n",
       "0             225.0               16.0               10.0              14.0  \n",
       "1            1000.0               30.0               18.0              20.0  "
      ]
     },
     "execution_count": 17,
     "metadata": {},
     "output_type": "execute_result"
    }
   ],
   "source": [
    "PRODUCTS.head(2)"
   ]
  },
  {
   "cell_type": "code",
   "execution_count": 18,
   "id": "76630951",
   "metadata": {},
   "outputs": [
    {
     "name": "stdout",
     "output_type": "stream",
     "text": [
      "<class 'pandas.core.frame.DataFrame'>\n",
      "RangeIndex: 32951 entries, 0 to 32950\n",
      "Data columns (total 9 columns):\n",
      " #   Column                      Non-Null Count  Dtype  \n",
      "---  ------                      --------------  -----  \n",
      " 0   product_id                  32951 non-null  object \n",
      " 1   product_category_name       32328 non-null  object \n",
      " 2   product_name_lenght         32341 non-null  float64\n",
      " 3   product_description_lenght  32341 non-null  float64\n",
      " 4   product_photos_qty          32341 non-null  float64\n",
      " 5   product_weight_g            32949 non-null  float64\n",
      " 6   product_length_cm           32949 non-null  float64\n",
      " 7   product_height_cm           32949 non-null  float64\n",
      " 8   product_width_cm            32949 non-null  float64\n",
      "dtypes: float64(7), object(2)\n",
      "memory usage: 2.3+ MB\n"
     ]
    }
   ],
   "source": [
    "PRODUCTS.info()"
   ]
  },
  {
   "cell_type": "code",
   "execution_count": 19,
   "id": "b05ae57c",
   "metadata": {},
   "outputs": [
    {
     "data": {
      "text/plain": [
       "product_id                      0\n",
       "product_category_name         623\n",
       "product_name_lenght           610\n",
       "product_description_lenght    610\n",
       "product_photos_qty            610\n",
       "product_weight_g                2\n",
       "product_length_cm               2\n",
       "product_height_cm               2\n",
       "product_width_cm                2\n",
       "dtype: int64"
      ]
     },
     "execution_count": 19,
     "metadata": {},
     "output_type": "execute_result"
    }
   ],
   "source": [
    "PRODUCTS.isna().sum()"
   ]
  },
  {
   "cell_type": "code",
   "execution_count": 20,
   "id": "5c0d71ef",
   "metadata": {},
   "outputs": [],
   "source": [
    "PRODUCTS = PRODUCTS.drop(columns = ['product_name_lenght','product_description_lenght','product_photos_qty','product_weight_g','product_length_cm','product_height_cm','product_width_cm'])"
   ]
  },
  {
   "cell_type": "code",
   "execution_count": 21,
   "id": "5d568756",
   "metadata": {},
   "outputs": [],
   "source": [
    "PRODUCTS['product_category_name'] = PRODUCTS['product_category_name'].fillna('unkown')"
   ]
  },
  {
   "cell_type": "code",
   "execution_count": 22,
   "id": "fd270942",
   "metadata": {},
   "outputs": [],
   "source": [
    "SELLERS = pd.read_csv('SELLERS.csv')"
   ]
  },
  {
   "cell_type": "code",
   "execution_count": 23,
   "id": "a2dc854e",
   "metadata": {},
   "outputs": [
    {
     "data": {
      "text/html": [
       "<div>\n",
       "<style scoped>\n",
       "    .dataframe tbody tr th:only-of-type {\n",
       "        vertical-align: middle;\n",
       "    }\n",
       "\n",
       "    .dataframe tbody tr th {\n",
       "        vertical-align: top;\n",
       "    }\n",
       "\n",
       "    .dataframe thead th {\n",
       "        text-align: right;\n",
       "    }\n",
       "</style>\n",
       "<table border=\"1\" class=\"dataframe\">\n",
       "  <thead>\n",
       "    <tr style=\"text-align: right;\">\n",
       "      <th></th>\n",
       "      <th>seller_id</th>\n",
       "      <th>seller_zip_code_prefix</th>\n",
       "      <th>seller_city</th>\n",
       "      <th>seller_state</th>\n",
       "    </tr>\n",
       "  </thead>\n",
       "  <tbody>\n",
       "    <tr>\n",
       "      <th>0</th>\n",
       "      <td>3442f8959a84dea7ee197c632cb2df15</td>\n",
       "      <td>13023</td>\n",
       "      <td>Alwal</td>\n",
       "      <td>Andhra Pradesh</td>\n",
       "    </tr>\n",
       "    <tr>\n",
       "      <th>1</th>\n",
       "      <td>d1b65fc7debc3361ea86b5f14c68d2e2</td>\n",
       "      <td>13023</td>\n",
       "      <td>Alwal</td>\n",
       "      <td>Andhra Pradesh</td>\n",
       "    </tr>\n",
       "  </tbody>\n",
       "</table>\n",
       "</div>"
      ],
      "text/plain": [
       "                          seller_id  seller_zip_code_prefix seller_city  \\\n",
       "0  3442f8959a84dea7ee197c632cb2df15                   13023       Alwal   \n",
       "1  d1b65fc7debc3361ea86b5f14c68d2e2                   13023       Alwal   \n",
       "\n",
       "     seller_state  \n",
       "0  Andhra Pradesh  \n",
       "1  Andhra Pradesh  "
      ]
     },
     "execution_count": 23,
     "metadata": {},
     "output_type": "execute_result"
    }
   ],
   "source": [
    "SELLERS.head(2)"
   ]
  },
  {
   "cell_type": "code",
   "execution_count": 24,
   "id": "27986eb5",
   "metadata": {},
   "outputs": [
    {
     "name": "stdout",
     "output_type": "stream",
     "text": [
      "<class 'pandas.core.frame.DataFrame'>\n",
      "RangeIndex: 3095 entries, 0 to 3094\n",
      "Data columns (total 4 columns):\n",
      " #   Column                  Non-Null Count  Dtype \n",
      "---  ------                  --------------  ----- \n",
      " 0   seller_id               3095 non-null   object\n",
      " 1   seller_zip_code_prefix  3095 non-null   int64 \n",
      " 2   seller_city             3038 non-null   object\n",
      " 3   seller_state            3038 non-null   object\n",
      "dtypes: int64(1), object(3)\n",
      "memory usage: 96.8+ KB\n"
     ]
    }
   ],
   "source": [
    "SELLERS.info()"
   ]
  },
  {
   "cell_type": "code",
   "execution_count": 25,
   "id": "649d6e16",
   "metadata": {},
   "outputs": [
    {
     "data": {
      "text/plain": [
       "seller_id                  0\n",
       "seller_zip_code_prefix     0\n",
       "seller_city               57\n",
       "seller_state              57\n",
       "dtype: int64"
      ]
     },
     "execution_count": 25,
     "metadata": {},
     "output_type": "execute_result"
    }
   ],
   "source": [
    "SELLERS.isna().sum()"
   ]
  },
  {
   "cell_type": "code",
   "execution_count": 26,
   "id": "f4e2e323",
   "metadata": {},
   "outputs": [],
   "source": [
    "SELLERS = SELLERS.drop(columns = ['seller_city','seller_state'])"
   ]
  },
  {
   "cell_type": "code",
   "execution_count": 27,
   "id": "98203ea9",
   "metadata": {},
   "outputs": [],
   "source": [
    "ORDER_ITEMS = pd.read_csv('ORDER_ITEMS.csv')"
   ]
  },
  {
   "cell_type": "code",
   "execution_count": 28,
   "id": "bcf58a8d",
   "metadata": {},
   "outputs": [
    {
     "data": {
      "text/html": [
       "<div>\n",
       "<style scoped>\n",
       "    .dataframe tbody tr th:only-of-type {\n",
       "        vertical-align: middle;\n",
       "    }\n",
       "\n",
       "    .dataframe tbody tr th {\n",
       "        vertical-align: top;\n",
       "    }\n",
       "\n",
       "    .dataframe thead th {\n",
       "        text-align: right;\n",
       "    }\n",
       "</style>\n",
       "<table border=\"1\" class=\"dataframe\">\n",
       "  <thead>\n",
       "    <tr style=\"text-align: right;\">\n",
       "      <th></th>\n",
       "      <th>order_id</th>\n",
       "      <th>order_item_id</th>\n",
       "      <th>product_id</th>\n",
       "      <th>seller_id</th>\n",
       "      <th>shipping_limit_date</th>\n",
       "      <th>price</th>\n",
       "      <th>freight_value</th>\n",
       "    </tr>\n",
       "  </thead>\n",
       "  <tbody>\n",
       "    <tr>\n",
       "      <th>0</th>\n",
       "      <td>00010242fe8c5a6d1ba2dd792cb16214</td>\n",
       "      <td>1</td>\n",
       "      <td>4244733e06e7ecb4970a6e2683c13e61</td>\n",
       "      <td>48436dade18ac8b2bce089ec2a041202</td>\n",
       "      <td>9/19/2017 9:45</td>\n",
       "      <td>58.9</td>\n",
       "      <td>13.29</td>\n",
       "    </tr>\n",
       "    <tr>\n",
       "      <th>1</th>\n",
       "      <td>00018f77f2f0320c557190d7a144bdd3</td>\n",
       "      <td>1</td>\n",
       "      <td>e5f2d52b802189ee658865ca93d83a8f</td>\n",
       "      <td>dd7ddc04e1b6c2c614352b383efe2d36</td>\n",
       "      <td>5/3/2017 11:05</td>\n",
       "      <td>239.9</td>\n",
       "      <td>19.93</td>\n",
       "    </tr>\n",
       "  </tbody>\n",
       "</table>\n",
       "</div>"
      ],
      "text/plain": [
       "                           order_id  order_item_id  \\\n",
       "0  00010242fe8c5a6d1ba2dd792cb16214              1   \n",
       "1  00018f77f2f0320c557190d7a144bdd3              1   \n",
       "\n",
       "                         product_id                         seller_id  \\\n",
       "0  4244733e06e7ecb4970a6e2683c13e61  48436dade18ac8b2bce089ec2a041202   \n",
       "1  e5f2d52b802189ee658865ca93d83a8f  dd7ddc04e1b6c2c614352b383efe2d36   \n",
       "\n",
       "  shipping_limit_date  price  freight_value  \n",
       "0      9/19/2017 9:45   58.9          13.29  \n",
       "1      5/3/2017 11:05  239.9          19.93  "
      ]
     },
     "execution_count": 28,
     "metadata": {},
     "output_type": "execute_result"
    }
   ],
   "source": [
    "ORDER_ITEMS.head(2)"
   ]
  },
  {
   "cell_type": "code",
   "execution_count": 29,
   "id": "739cbb33",
   "metadata": {},
   "outputs": [
    {
     "name": "stdout",
     "output_type": "stream",
     "text": [
      "<class 'pandas.core.frame.DataFrame'>\n",
      "RangeIndex: 112650 entries, 0 to 112649\n",
      "Data columns (total 7 columns):\n",
      " #   Column               Non-Null Count   Dtype  \n",
      "---  ------               --------------   -----  \n",
      " 0   order_id             112650 non-null  object \n",
      " 1   order_item_id        112650 non-null  int64  \n",
      " 2   product_id           112650 non-null  object \n",
      " 3   seller_id            112650 non-null  object \n",
      " 4   shipping_limit_date  112650 non-null  object \n",
      " 5   price                112650 non-null  float64\n",
      " 6   freight_value        112650 non-null  float64\n",
      "dtypes: float64(2), int64(1), object(4)\n",
      "memory usage: 6.0+ MB\n"
     ]
    }
   ],
   "source": [
    "ORDER_ITEMS.info()"
   ]
  },
  {
   "cell_type": "code",
   "execution_count": 30,
   "id": "7f2300d5",
   "metadata": {},
   "outputs": [],
   "source": [
    "CUSTOMERS = pd.read_csv('CUSTOMERS.csv')"
   ]
  },
  {
   "cell_type": "code",
   "execution_count": 31,
   "id": "5d9d20db",
   "metadata": {},
   "outputs": [
    {
     "data": {
      "text/html": [
       "<div>\n",
       "<style scoped>\n",
       "    .dataframe tbody tr th:only-of-type {\n",
       "        vertical-align: middle;\n",
       "    }\n",
       "\n",
       "    .dataframe tbody tr th {\n",
       "        vertical-align: top;\n",
       "    }\n",
       "\n",
       "    .dataframe thead th {\n",
       "        text-align: right;\n",
       "    }\n",
       "</style>\n",
       "<table border=\"1\" class=\"dataframe\">\n",
       "  <thead>\n",
       "    <tr style=\"text-align: right;\">\n",
       "      <th></th>\n",
       "      <th>customer_id</th>\n",
       "      <th>customer_unique_id</th>\n",
       "      <th>customer_zip_code_prefix</th>\n",
       "      <th>customer_city</th>\n",
       "      <th>customer_state</th>\n",
       "    </tr>\n",
       "  </thead>\n",
       "  <tbody>\n",
       "    <tr>\n",
       "      <th>0</th>\n",
       "      <td>06b8999e2fba1a1fbc88172c00ba8bc7</td>\n",
       "      <td>861eff4711a542e4b93843c6dd7febb0</td>\n",
       "      <td>14409</td>\n",
       "      <td>Adilabad</td>\n",
       "      <td>Andhra Pradesh</td>\n",
       "    </tr>\n",
       "    <tr>\n",
       "      <th>1</th>\n",
       "      <td>18955e83d337fd6b2def6b18a428ac77</td>\n",
       "      <td>290c77bc529b7ac935b93aa66c333dc3</td>\n",
       "      <td>9790</td>\n",
       "      <td>Adoni</td>\n",
       "      <td>Andhra Pradesh</td>\n",
       "    </tr>\n",
       "  </tbody>\n",
       "</table>\n",
       "</div>"
      ],
      "text/plain": [
       "                        customer_id                customer_unique_id  \\\n",
       "0  06b8999e2fba1a1fbc88172c00ba8bc7  861eff4711a542e4b93843c6dd7febb0   \n",
       "1  18955e83d337fd6b2def6b18a428ac77  290c77bc529b7ac935b93aa66c333dc3   \n",
       "\n",
       "   customer_zip_code_prefix customer_city  customer_state  \n",
       "0                     14409      Adilabad  Andhra Pradesh  \n",
       "1                      9790         Adoni  Andhra Pradesh  "
      ]
     },
     "execution_count": 31,
     "metadata": {},
     "output_type": "execute_result"
    }
   ],
   "source": [
    "CUSTOMERS.head(2)"
   ]
  },
  {
   "cell_type": "code",
   "execution_count": 32,
   "id": "edc30cb7",
   "metadata": {},
   "outputs": [
    {
     "name": "stdout",
     "output_type": "stream",
     "text": [
      "<class 'pandas.core.frame.DataFrame'>\n",
      "RangeIndex: 99441 entries, 0 to 99440\n",
      "Data columns (total 5 columns):\n",
      " #   Column                    Non-Null Count  Dtype \n",
      "---  ------                    --------------  ----- \n",
      " 0   customer_id               99441 non-null  object\n",
      " 1   customer_unique_id        99441 non-null  object\n",
      " 2   customer_zip_code_prefix  99441 non-null  int64 \n",
      " 3   customer_city             99441 non-null  object\n",
      " 4   customer_state            99441 non-null  object\n",
      "dtypes: int64(1), object(4)\n",
      "memory usage: 3.8+ MB\n"
     ]
    }
   ],
   "source": [
    "CUSTOMERS.info()"
   ]
  },
  {
   "cell_type": "code",
   "execution_count": 33,
   "id": "6a5bd32f",
   "metadata": {},
   "outputs": [],
   "source": [
    "df = ORDERS.merge(ORDER_REVIEW_RATINGS, on='order_id', how='left') \\\n",
    "    .merge(ORDER_PAYMENTS, on='order_id', how='left') \\\n",
    "    .merge(ORDER_ITEMS, on='order_id', how='left') \\\n",
    "    .merge(CUSTOMERS, on='customer_id', how='left') \\\n",
    "    .merge(PRODUCTS, on='product_id', how='left') \\\n",
    "    .merge(SELLERS, on='seller_id', how='left') \\\n",
    "    .merge(GEO_LOCATION, left_on='customer_zip_code_prefix', right_on='geolocation_zip_code_prefix', how='left')"
   ]
  },
  {
   "cell_type": "code",
   "execution_count": 34,
   "id": "44a0cb2d",
   "metadata": {},
   "outputs": [],
   "source": [
    "pd.set_option('display.max_columns', None)"
   ]
  },
  {
   "cell_type": "code",
   "execution_count": 35,
   "id": "964582ee",
   "metadata": {},
   "outputs": [
    {
     "data": {
      "text/html": [
       "<div>\n",
       "<style scoped>\n",
       "    .dataframe tbody tr th:only-of-type {\n",
       "        vertical-align: middle;\n",
       "    }\n",
       "\n",
       "    .dataframe tbody tr th {\n",
       "        vertical-align: top;\n",
       "    }\n",
       "\n",
       "    .dataframe thead th {\n",
       "        text-align: right;\n",
       "    }\n",
       "</style>\n",
       "<table border=\"1\" class=\"dataframe\">\n",
       "  <thead>\n",
       "    <tr style=\"text-align: right;\">\n",
       "      <th></th>\n",
       "      <th>order_id</th>\n",
       "      <th>customer_id</th>\n",
       "      <th>order_status</th>\n",
       "      <th>order_purchase_timestamp</th>\n",
       "      <th>review_id</th>\n",
       "      <th>review_score</th>\n",
       "      <th>review_creation_date</th>\n",
       "      <th>review_answer_timestamp</th>\n",
       "      <th>payment_sequential</th>\n",
       "      <th>payment_type</th>\n",
       "      <th>payment_installments</th>\n",
       "      <th>payment_value</th>\n",
       "      <th>order_item_id</th>\n",
       "      <th>product_id</th>\n",
       "      <th>seller_id</th>\n",
       "      <th>shipping_limit_date</th>\n",
       "      <th>price</th>\n",
       "      <th>freight_value</th>\n",
       "      <th>customer_unique_id</th>\n",
       "      <th>customer_zip_code_prefix</th>\n",
       "      <th>customer_city</th>\n",
       "      <th>customer_state</th>\n",
       "      <th>product_category_name</th>\n",
       "      <th>seller_zip_code_prefix</th>\n",
       "      <th>geolocation_zip_code_prefix</th>\n",
       "      <th>geolocation_lat</th>\n",
       "      <th>geolocation_lng</th>\n",
       "      <th>geolocation_city</th>\n",
       "      <th>geolocation_state</th>\n",
       "    </tr>\n",
       "  </thead>\n",
       "  <tbody>\n",
       "    <tr>\n",
       "      <th>0</th>\n",
       "      <td>e481f51cbdc54678b7cc49136f2d6af7</td>\n",
       "      <td>9ef432eb6251297304e76186b10a928d</td>\n",
       "      <td>delivered</td>\n",
       "      <td>10/2/2017 10:56</td>\n",
       "      <td>a54f0611adc9ed256b57ede6b6eb5114</td>\n",
       "      <td>4</td>\n",
       "      <td>10/11/2017 0:00</td>\n",
       "      <td>10/12/2017 3:43</td>\n",
       "      <td>1.0</td>\n",
       "      <td>credit_card</td>\n",
       "      <td>1.0</td>\n",
       "      <td>18.12</td>\n",
       "      <td>1.0</td>\n",
       "      <td>87285b34884572647811a353c7ac498a</td>\n",
       "      <td>3504c0cb71d7fa48d967e0e4c94d59d9</td>\n",
       "      <td>10/6/2017 11:07</td>\n",
       "      <td>29.99</td>\n",
       "      <td>8.72</td>\n",
       "      <td>7c396fd4830fd04220f754e42b4e5bff</td>\n",
       "      <td>3149</td>\n",
       "      <td>Akkarampalle</td>\n",
       "      <td>Andhra Pradesh</td>\n",
       "      <td>Housewares</td>\n",
       "      <td>9350.0</td>\n",
       "      <td>3149.0</td>\n",
       "      <td>-23.574809</td>\n",
       "      <td>-46.587471</td>\n",
       "      <td>Akkarampalle</td>\n",
       "      <td>Andhra Pradesh</td>\n",
       "    </tr>\n",
       "    <tr>\n",
       "      <th>1</th>\n",
       "      <td>e481f51cbdc54678b7cc49136f2d6af7</td>\n",
       "      <td>9ef432eb6251297304e76186b10a928d</td>\n",
       "      <td>delivered</td>\n",
       "      <td>10/2/2017 10:56</td>\n",
       "      <td>a54f0611adc9ed256b57ede6b6eb5114</td>\n",
       "      <td>4</td>\n",
       "      <td>10/11/2017 0:00</td>\n",
       "      <td>10/12/2017 3:43</td>\n",
       "      <td>3.0</td>\n",
       "      <td>voucher</td>\n",
       "      <td>1.0</td>\n",
       "      <td>2.00</td>\n",
       "      <td>1.0</td>\n",
       "      <td>87285b34884572647811a353c7ac498a</td>\n",
       "      <td>3504c0cb71d7fa48d967e0e4c94d59d9</td>\n",
       "      <td>10/6/2017 11:07</td>\n",
       "      <td>29.99</td>\n",
       "      <td>8.72</td>\n",
       "      <td>7c396fd4830fd04220f754e42b4e5bff</td>\n",
       "      <td>3149</td>\n",
       "      <td>Akkarampalle</td>\n",
       "      <td>Andhra Pradesh</td>\n",
       "      <td>Housewares</td>\n",
       "      <td>9350.0</td>\n",
       "      <td>3149.0</td>\n",
       "      <td>-23.574809</td>\n",
       "      <td>-46.587471</td>\n",
       "      <td>Akkarampalle</td>\n",
       "      <td>Andhra Pradesh</td>\n",
       "    </tr>\n",
       "  </tbody>\n",
       "</table>\n",
       "</div>"
      ],
      "text/plain": [
       "                           order_id                       customer_id  \\\n",
       "0  e481f51cbdc54678b7cc49136f2d6af7  9ef432eb6251297304e76186b10a928d   \n",
       "1  e481f51cbdc54678b7cc49136f2d6af7  9ef432eb6251297304e76186b10a928d   \n",
       "\n",
       "  order_status order_purchase_timestamp                         review_id  \\\n",
       "0    delivered          10/2/2017 10:56  a54f0611adc9ed256b57ede6b6eb5114   \n",
       "1    delivered          10/2/2017 10:56  a54f0611adc9ed256b57ede6b6eb5114   \n",
       "\n",
       "   review_score review_creation_date review_answer_timestamp  \\\n",
       "0             4      10/11/2017 0:00         10/12/2017 3:43   \n",
       "1             4      10/11/2017 0:00         10/12/2017 3:43   \n",
       "\n",
       "   payment_sequential payment_type  payment_installments  payment_value  \\\n",
       "0                 1.0  credit_card                   1.0          18.12   \n",
       "1                 3.0      voucher                   1.0           2.00   \n",
       "\n",
       "   order_item_id                        product_id  \\\n",
       "0            1.0  87285b34884572647811a353c7ac498a   \n",
       "1            1.0  87285b34884572647811a353c7ac498a   \n",
       "\n",
       "                          seller_id shipping_limit_date  price  freight_value  \\\n",
       "0  3504c0cb71d7fa48d967e0e4c94d59d9     10/6/2017 11:07  29.99           8.72   \n",
       "1  3504c0cb71d7fa48d967e0e4c94d59d9     10/6/2017 11:07  29.99           8.72   \n",
       "\n",
       "                 customer_unique_id  customer_zip_code_prefix customer_city  \\\n",
       "0  7c396fd4830fd04220f754e42b4e5bff                      3149  Akkarampalle   \n",
       "1  7c396fd4830fd04220f754e42b4e5bff                      3149  Akkarampalle   \n",
       "\n",
       "   customer_state product_category_name  seller_zip_code_prefix  \\\n",
       "0  Andhra Pradesh            Housewares                  9350.0   \n",
       "1  Andhra Pradesh            Housewares                  9350.0   \n",
       "\n",
       "   geolocation_zip_code_prefix  geolocation_lat  geolocation_lng  \\\n",
       "0                       3149.0       -23.574809       -46.587471   \n",
       "1                       3149.0       -23.574809       -46.587471   \n",
       "\n",
       "  geolocation_city geolocation_state  \n",
       "0     Akkarampalle    Andhra Pradesh  \n",
       "1     Akkarampalle    Andhra Pradesh  "
      ]
     },
     "execution_count": 35,
     "metadata": {},
     "output_type": "execute_result"
    }
   ],
   "source": [
    "df.head(2)"
   ]
  },
  {
   "cell_type": "code",
   "execution_count": 36,
   "id": "3c7c91be",
   "metadata": {},
   "outputs": [
    {
     "name": "stdout",
     "output_type": "stream",
     "text": [
      "<class 'pandas.core.frame.DataFrame'>\n",
      "Int64Index: 119151 entries, 0 to 119150\n",
      "Data columns (total 29 columns):\n",
      " #   Column                       Non-Null Count   Dtype  \n",
      "---  ------                       --------------   -----  \n",
      " 0   order_id                     119151 non-null  object \n",
      " 1   customer_id                  119151 non-null  object \n",
      " 2   order_status                 119151 non-null  object \n",
      " 3   order_purchase_timestamp     119151 non-null  object \n",
      " 4   review_id                    119151 non-null  object \n",
      " 5   review_score                 119151 non-null  int64  \n",
      " 6   review_creation_date         119151 non-null  object \n",
      " 7   review_answer_timestamp      119151 non-null  object \n",
      " 8   payment_sequential           119148 non-null  float64\n",
      " 9   payment_type                 119148 non-null  object \n",
      " 10  payment_installments         119148 non-null  float64\n",
      " 11  payment_value                119148 non-null  float64\n",
      " 12  order_item_id                118318 non-null  float64\n",
      " 13  product_id                   118318 non-null  object \n",
      " 14  seller_id                    118318 non-null  object \n",
      " 15  shipping_limit_date          118318 non-null  object \n",
      " 16  price                        118318 non-null  float64\n",
      " 17  freight_value                118318 non-null  float64\n",
      " 18  customer_unique_id           119151 non-null  object \n",
      " 19  customer_zip_code_prefix     119151 non-null  int64  \n",
      " 20  customer_city                119151 non-null  object \n",
      " 21  customer_state               119151 non-null  object \n",
      " 22  product_category_name        118318 non-null  object \n",
      " 23  seller_zip_code_prefix       118318 non-null  float64\n",
      " 24  geolocation_zip_code_prefix  118829 non-null  float64\n",
      " 25  geolocation_lat              118829 non-null  float64\n",
      " 26  geolocation_lng              118829 non-null  float64\n",
      " 27  geolocation_city             118829 non-null  object \n",
      " 28  geolocation_state            118829 non-null  object \n",
      "dtypes: float64(10), int64(2), object(17)\n",
      "memory usage: 27.3+ MB\n"
     ]
    }
   ],
   "source": [
    "df.info()"
   ]
  },
  {
   "cell_type": "code",
   "execution_count": 37,
   "id": "3de546bf",
   "metadata": {},
   "outputs": [
    {
     "data": {
      "text/plain": [
       "order_id                         0\n",
       "customer_id                      0\n",
       "order_status                     0\n",
       "order_purchase_timestamp         0\n",
       "review_id                        0\n",
       "review_score                     0\n",
       "review_creation_date             0\n",
       "review_answer_timestamp          0\n",
       "payment_sequential               3\n",
       "payment_type                     3\n",
       "payment_installments             3\n",
       "payment_value                    3\n",
       "order_item_id                  833\n",
       "product_id                     833\n",
       "seller_id                      833\n",
       "shipping_limit_date            833\n",
       "price                          833\n",
       "freight_value                  833\n",
       "customer_unique_id               0\n",
       "customer_zip_code_prefix         0\n",
       "customer_city                    0\n",
       "customer_state                   0\n",
       "product_category_name          833\n",
       "seller_zip_code_prefix         833\n",
       "geolocation_zip_code_prefix    322\n",
       "geolocation_lat                322\n",
       "geolocation_lng                322\n",
       "geolocation_city               322\n",
       "geolocation_state              322\n",
       "dtype: int64"
      ]
     },
     "execution_count": 37,
     "metadata": {},
     "output_type": "execute_result"
    }
   ],
   "source": [
    "df.isna().sum()"
   ]
  },
  {
   "cell_type": "code",
   "execution_count": 38,
   "id": "1230f055",
   "metadata": {},
   "outputs": [],
   "source": [
    "df['order_item_id'] = df['order_item_id'].fillna(df['order_item_id'].median)"
   ]
  },
  {
   "cell_type": "code",
   "execution_count": 39,
   "id": "96b8fc60",
   "metadata": {},
   "outputs": [],
   "source": [
    "col = ['product_id','seller_id','product_category_name' ]\n",
    "\n",
    "for columns in col :\n",
    "    df[col] = df[col].fillna(\"unkown\")"
   ]
  },
  {
   "cell_type": "code",
   "execution_count": 40,
   "id": "95a5e90a",
   "metadata": {},
   "outputs": [],
   "source": [
    "df = df.drop(columns = ['shipping_limit_date','geolocation_lat','geolocation_lng','geolocation_city','geolocation_state','payment_sequential'])"
   ]
  },
  {
   "cell_type": "code",
   "execution_count": 41,
   "id": "21929665",
   "metadata": {},
   "outputs": [],
   "source": [
    "df = df.drop(columns = ['seller_zip_code_prefix'])"
   ]
  },
  {
   "cell_type": "code",
   "execution_count": 42,
   "id": "a14b67bd",
   "metadata": {},
   "outputs": [],
   "source": [
    "df['price'] = df['price'].fillna(0.90 * df.payment_value)"
   ]
  },
  {
   "cell_type": "code",
   "execution_count": 43,
   "id": "6d3ae4f6",
   "metadata": {},
   "outputs": [],
   "source": [
    "df['freight_value'] = df['freight_value'].fillna(0.1 * df.payment_value)"
   ]
  },
  {
   "cell_type": "code",
   "execution_count": 44,
   "id": "974311af",
   "metadata": {},
   "outputs": [],
   "source": [
    "df['geolocation_zip_code_prefix'] = df['geolocation_zip_code_prefix'].fillna(df['geolocation_zip_code_prefix'].mode()[0])"
   ]
  },
  {
   "cell_type": "code",
   "execution_count": 45,
   "id": "dd7c2b3b",
   "metadata": {},
   "outputs": [],
   "source": [
    "df = df.dropna()"
   ]
  },
  {
   "cell_type": "code",
   "execution_count": 46,
   "id": "57455e40",
   "metadata": {},
   "outputs": [],
   "source": [
    "df.drop_duplicates(subset=['order_id', 'product_id'], keep='last', inplace=True)"
   ]
  },
  {
   "cell_type": "code",
   "execution_count": 47,
   "id": "4c91b440",
   "metadata": {},
   "outputs": [],
   "source": [
    "df['Price_to_Pay'] = df['price'] + df['freight_value']"
   ]
  },
  {
   "cell_type": "code",
   "execution_count": 48,
   "id": "ffacc106",
   "metadata": {},
   "outputs": [
    {
     "data": {
      "text/plain": [
       "14962185.77"
      ]
     },
     "execution_count": 48,
     "metadata": {},
     "output_type": "execute_result"
    }
   ],
   "source": [
    "Total_revenue = df['Price_to_Pay'].sum()\n",
    "Total_revenue"
   ]
  },
  {
   "cell_type": "code",
   "execution_count": 49,
   "id": "0efeb913",
   "metadata": {},
   "outputs": [
    {
     "name": "stdout",
     "output_type": "stream",
     "text": [
      "object\n"
     ]
    }
   ],
   "source": [
    "print(df['order_item_id'].dtype)"
   ]
  },
  {
   "cell_type": "code",
   "execution_count": 50,
   "id": "983171fe",
   "metadata": {},
   "outputs": [],
   "source": [
    "df['order_item_id'] = pd.to_numeric(df['order_item_id'], errors='coerce')"
   ]
  },
  {
   "cell_type": "code",
   "execution_count": 51,
   "id": "8fdb08dc",
   "metadata": {},
   "outputs": [
    {
     "data": {
      "text/plain": [
       "117841.0"
      ]
     },
     "execution_count": 51,
     "metadata": {},
     "output_type": "execute_result"
    }
   ],
   "source": [
    "Total_quantity = df['order_item_id'].sum()\n",
    "Total_quantity"
   ]
  },
  {
   "cell_type": "code",
   "execution_count": 52,
   "id": "15df067b",
   "metadata": {},
   "outputs": [
    {
     "data": {
      "text/plain": [
       "32952"
      ]
     },
     "execution_count": 52,
     "metadata": {},
     "output_type": "execute_result"
    }
   ],
   "source": [
    "Total_products = df['product_id'].nunique()\n",
    "Total_products"
   ]
  },
  {
   "cell_type": "code",
   "execution_count": 53,
   "id": "ed1a02fd",
   "metadata": {},
   "outputs": [
    {
     "data": {
      "text/plain": [
       "72"
      ]
     },
     "execution_count": 53,
     "metadata": {},
     "output_type": "execute_result"
    }
   ],
   "source": [
    "Total_categories = df['product_category_name'].nunique()\n",
    "Total_categories"
   ]
  },
  {
   "cell_type": "code",
   "execution_count": 54,
   "id": "6a58f0f3",
   "metadata": {},
   "outputs": [
    {
     "data": {
      "text/plain": [
       "3096"
      ]
     },
     "execution_count": 54,
     "metadata": {},
     "output_type": "execute_result"
    }
   ],
   "source": [
    "Total_sellers = df['seller_id'].nunique()\n",
    "Total_sellers"
   ]
  },
  {
   "cell_type": "code",
   "execution_count": 55,
   "id": "1a8dbf1c",
   "metadata": {},
   "outputs": [
    {
     "data": {
      "text/plain": [
       "14837"
      ]
     },
     "execution_count": 55,
     "metadata": {},
     "output_type": "execute_result"
    }
   ],
   "source": [
    "Total_locations = df['geolocation_zip_code_prefix'].nunique()\n",
    "Total_locations"
   ]
  },
  {
   "cell_type": "code",
   "execution_count": 56,
   "id": "a9a567de",
   "metadata": {},
   "outputs": [
    {
     "data": {
      "text/plain": [
       "5"
      ]
     },
     "execution_count": 56,
     "metadata": {},
     "output_type": "execute_result"
    }
   ],
   "source": [
    "Total_payment_methods = df['payment_type'].nunique()\n",
    "Total_payment_methods"
   ]
  },
  {
   "cell_type": "code",
   "execution_count": 57,
   "id": "163f36d4",
   "metadata": {},
   "outputs": [
    {
     "data": {
      "text/html": [
       "<div>\n",
       "<style scoped>\n",
       "    .dataframe tbody tr th:only-of-type {\n",
       "        vertical-align: middle;\n",
       "    }\n",
       "\n",
       "    .dataframe tbody tr th {\n",
       "        vertical-align: top;\n",
       "    }\n",
       "\n",
       "    .dataframe thead th {\n",
       "        text-align: right;\n",
       "    }\n",
       "</style>\n",
       "<table border=\"1\" class=\"dataframe\">\n",
       "  <thead>\n",
       "    <tr style=\"text-align: right;\">\n",
       "      <th></th>\n",
       "      <th>order_id</th>\n",
       "      <th>customer_id</th>\n",
       "      <th>order_status</th>\n",
       "      <th>order_purchase_timestamp</th>\n",
       "      <th>review_id</th>\n",
       "      <th>review_score</th>\n",
       "      <th>review_creation_date</th>\n",
       "      <th>review_answer_timestamp</th>\n",
       "      <th>payment_type</th>\n",
       "      <th>payment_installments</th>\n",
       "      <th>payment_value</th>\n",
       "      <th>order_item_id</th>\n",
       "      <th>product_id</th>\n",
       "      <th>seller_id</th>\n",
       "      <th>price</th>\n",
       "      <th>freight_value</th>\n",
       "      <th>customer_unique_id</th>\n",
       "      <th>customer_zip_code_prefix</th>\n",
       "      <th>customer_city</th>\n",
       "      <th>customer_state</th>\n",
       "      <th>product_category_name</th>\n",
       "      <th>geolocation_zip_code_prefix</th>\n",
       "      <th>Price_to_Pay</th>\n",
       "    </tr>\n",
       "  </thead>\n",
       "  <tbody>\n",
       "    <tr>\n",
       "      <th>2</th>\n",
       "      <td>e481f51cbdc54678b7cc49136f2d6af7</td>\n",
       "      <td>9ef432eb6251297304e76186b10a928d</td>\n",
       "      <td>delivered</td>\n",
       "      <td>10/2/2017 10:56</td>\n",
       "      <td>a54f0611adc9ed256b57ede6b6eb5114</td>\n",
       "      <td>4</td>\n",
       "      <td>10/11/2017 0:00</td>\n",
       "      <td>10/12/2017 3:43</td>\n",
       "      <td>voucher</td>\n",
       "      <td>1.0</td>\n",
       "      <td>18.59</td>\n",
       "      <td>1.0</td>\n",
       "      <td>87285b34884572647811a353c7ac498a</td>\n",
       "      <td>3504c0cb71d7fa48d967e0e4c94d59d9</td>\n",
       "      <td>29.99</td>\n",
       "      <td>8.72</td>\n",
       "      <td>7c396fd4830fd04220f754e42b4e5bff</td>\n",
       "      <td>3149</td>\n",
       "      <td>Akkarampalle</td>\n",
       "      <td>Andhra Pradesh</td>\n",
       "      <td>Housewares</td>\n",
       "      <td>3149.0</td>\n",
       "      <td>38.71</td>\n",
       "    </tr>\n",
       "    <tr>\n",
       "      <th>3</th>\n",
       "      <td>53cdb2fc8bc7dce0b6741e2150273451</td>\n",
       "      <td>b0830fb4747a6c6d20dea0b8c802d7ef</td>\n",
       "      <td>delivered</td>\n",
       "      <td>7/24/2018 20:41</td>\n",
       "      <td>8d5266042046a06655c8db133d120ba5</td>\n",
       "      <td>4</td>\n",
       "      <td>8/8/2018 0:00</td>\n",
       "      <td>8/8/2018 18:37</td>\n",
       "      <td>UPI</td>\n",
       "      <td>1.0</td>\n",
       "      <td>141.46</td>\n",
       "      <td>1.0</td>\n",
       "      <td>595fac2a385ac33a80bd5114aec74eb8</td>\n",
       "      <td>289cdb325fb7e7f891c38608bf9e0962</td>\n",
       "      <td>118.70</td>\n",
       "      <td>22.76</td>\n",
       "      <td>af07308b275d755c9edb36a90c618231</td>\n",
       "      <td>47813</td>\n",
       "      <td>Pandariya</td>\n",
       "      <td>Chhattisgarh</td>\n",
       "      <td>Perfumery</td>\n",
       "      <td>47813.0</td>\n",
       "      <td>141.46</td>\n",
       "    </tr>\n",
       "    <tr>\n",
       "      <th>4</th>\n",
       "      <td>47770eb9100c2d0c44946d9cf07ec65d</td>\n",
       "      <td>41ce2a54c0b03bf3443c3d931a367089</td>\n",
       "      <td>delivered</td>\n",
       "      <td>8/8/2018 8:38</td>\n",
       "      <td>e73b67b67587f7644d5bd1a52deb1b01</td>\n",
       "      <td>5</td>\n",
       "      <td>8/18/2018 0:00</td>\n",
       "      <td>8/22/2018 19:07</td>\n",
       "      <td>credit_card</td>\n",
       "      <td>3.0</td>\n",
       "      <td>179.12</td>\n",
       "      <td>1.0</td>\n",
       "      <td>aa4383b373c6aca5d8797843e5594415</td>\n",
       "      <td>4869f7a5dfa277a7dca6462dcf3b52b2</td>\n",
       "      <td>159.90</td>\n",
       "      <td>19.22</td>\n",
       "      <td>3a653a41f6f9fc3d2a113cf8398680e8</td>\n",
       "      <td>75265</td>\n",
       "      <td>Dhamdha</td>\n",
       "      <td>Chhattisgarh</td>\n",
       "      <td>Auto</td>\n",
       "      <td>75265.0</td>\n",
       "      <td>179.12</td>\n",
       "    </tr>\n",
       "    <tr>\n",
       "      <th>5</th>\n",
       "      <td>949d5b44dbf5de918fe9c16f97b45f8a</td>\n",
       "      <td>f88197465ea7920adcdbec7375364d82</td>\n",
       "      <td>delivered</td>\n",
       "      <td>11/18/2017 19:28</td>\n",
       "      <td>359d03e676b3c069f62cadba8dd3f6e8</td>\n",
       "      <td>5</td>\n",
       "      <td>12/3/2017 0:00</td>\n",
       "      <td>12/5/2017 19:21</td>\n",
       "      <td>credit_card</td>\n",
       "      <td>1.0</td>\n",
       "      <td>72.20</td>\n",
       "      <td>1.0</td>\n",
       "      <td>d0b61bfb1de832b15ba9d266ca96e5b0</td>\n",
       "      <td>66922902710d126a0e7d26b0e3805106</td>\n",
       "      <td>45.00</td>\n",
       "      <td>27.20</td>\n",
       "      <td>7c142cf63193a1473d2e66489a9ae977</td>\n",
       "      <td>59296</td>\n",
       "      <td>Kartarpur</td>\n",
       "      <td>Punjab</td>\n",
       "      <td>Pet_Shop</td>\n",
       "      <td>59296.0</td>\n",
       "      <td>72.20</td>\n",
       "    </tr>\n",
       "    <tr>\n",
       "      <th>6</th>\n",
       "      <td>ad21c59c0840e6cb83a9ceb5573f8159</td>\n",
       "      <td>8ab97904e6daea8866dbdbc4fb7aad2c</td>\n",
       "      <td>delivered</td>\n",
       "      <td>2/13/2018 21:18</td>\n",
       "      <td>e50934924e227544ba8246aeb3770dd4</td>\n",
       "      <td>5</td>\n",
       "      <td>2/17/2018 0:00</td>\n",
       "      <td>2/18/2018 13:02</td>\n",
       "      <td>credit_card</td>\n",
       "      <td>1.0</td>\n",
       "      <td>28.62</td>\n",
       "      <td>1.0</td>\n",
       "      <td>65266b2da20d04dbe00c5c2d3bb7859e</td>\n",
       "      <td>2c9e548be18521d1c43cde1c582c6de8</td>\n",
       "      <td>19.90</td>\n",
       "      <td>8.72</td>\n",
       "      <td>72632f0f9dd73dfee390c9b22eb56dd6</td>\n",
       "      <td>9195</td>\n",
       "      <td>Bheemavaram</td>\n",
       "      <td>Andhra Pradesh</td>\n",
       "      <td>Stationery</td>\n",
       "      <td>9195.0</td>\n",
       "      <td>28.62</td>\n",
       "    </tr>\n",
       "  </tbody>\n",
       "</table>\n",
       "</div>"
      ],
      "text/plain": [
       "                           order_id                       customer_id  \\\n",
       "2  e481f51cbdc54678b7cc49136f2d6af7  9ef432eb6251297304e76186b10a928d   \n",
       "3  53cdb2fc8bc7dce0b6741e2150273451  b0830fb4747a6c6d20dea0b8c802d7ef   \n",
       "4  47770eb9100c2d0c44946d9cf07ec65d  41ce2a54c0b03bf3443c3d931a367089   \n",
       "5  949d5b44dbf5de918fe9c16f97b45f8a  f88197465ea7920adcdbec7375364d82   \n",
       "6  ad21c59c0840e6cb83a9ceb5573f8159  8ab97904e6daea8866dbdbc4fb7aad2c   \n",
       "\n",
       "  order_status order_purchase_timestamp                         review_id  \\\n",
       "2    delivered          10/2/2017 10:56  a54f0611adc9ed256b57ede6b6eb5114   \n",
       "3    delivered          7/24/2018 20:41  8d5266042046a06655c8db133d120ba5   \n",
       "4    delivered            8/8/2018 8:38  e73b67b67587f7644d5bd1a52deb1b01   \n",
       "5    delivered         11/18/2017 19:28  359d03e676b3c069f62cadba8dd3f6e8   \n",
       "6    delivered          2/13/2018 21:18  e50934924e227544ba8246aeb3770dd4   \n",
       "\n",
       "   review_score review_creation_date review_answer_timestamp payment_type  \\\n",
       "2             4      10/11/2017 0:00         10/12/2017 3:43      voucher   \n",
       "3             4        8/8/2018 0:00          8/8/2018 18:37          UPI   \n",
       "4             5       8/18/2018 0:00         8/22/2018 19:07  credit_card   \n",
       "5             5       12/3/2017 0:00         12/5/2017 19:21  credit_card   \n",
       "6             5       2/17/2018 0:00         2/18/2018 13:02  credit_card   \n",
       "\n",
       "   payment_installments  payment_value  order_item_id  \\\n",
       "2                   1.0          18.59            1.0   \n",
       "3                   1.0         141.46            1.0   \n",
       "4                   3.0         179.12            1.0   \n",
       "5                   1.0          72.20            1.0   \n",
       "6                   1.0          28.62            1.0   \n",
       "\n",
       "                         product_id                         seller_id   price  \\\n",
       "2  87285b34884572647811a353c7ac498a  3504c0cb71d7fa48d967e0e4c94d59d9   29.99   \n",
       "3  595fac2a385ac33a80bd5114aec74eb8  289cdb325fb7e7f891c38608bf9e0962  118.70   \n",
       "4  aa4383b373c6aca5d8797843e5594415  4869f7a5dfa277a7dca6462dcf3b52b2  159.90   \n",
       "5  d0b61bfb1de832b15ba9d266ca96e5b0  66922902710d126a0e7d26b0e3805106   45.00   \n",
       "6  65266b2da20d04dbe00c5c2d3bb7859e  2c9e548be18521d1c43cde1c582c6de8   19.90   \n",
       "\n",
       "   freight_value                customer_unique_id  customer_zip_code_prefix  \\\n",
       "2           8.72  7c396fd4830fd04220f754e42b4e5bff                      3149   \n",
       "3          22.76  af07308b275d755c9edb36a90c618231                     47813   \n",
       "4          19.22  3a653a41f6f9fc3d2a113cf8398680e8                     75265   \n",
       "5          27.20  7c142cf63193a1473d2e66489a9ae977                     59296   \n",
       "6           8.72  72632f0f9dd73dfee390c9b22eb56dd6                      9195   \n",
       "\n",
       "  customer_city  customer_state product_category_name  \\\n",
       "2  Akkarampalle  Andhra Pradesh            Housewares   \n",
       "3     Pandariya    Chhattisgarh             Perfumery   \n",
       "4       Dhamdha    Chhattisgarh                  Auto   \n",
       "5     Kartarpur          Punjab              Pet_Shop   \n",
       "6   Bheemavaram  Andhra Pradesh            Stationery   \n",
       "\n",
       "   geolocation_zip_code_prefix  Price_to_Pay  \n",
       "2                       3149.0         38.71  \n",
       "3                      47813.0        141.46  \n",
       "4                      75265.0        179.12  \n",
       "5                      59296.0         72.20  \n",
       "6                       9195.0         28.62  "
      ]
     },
     "execution_count": 57,
     "metadata": {},
     "output_type": "execute_result"
    }
   ],
   "source": [
    "df.head()"
   ]
  },
  {
   "cell_type": "code",
   "execution_count": 58,
   "id": "bd999cee",
   "metadata": {},
   "outputs": [],
   "source": [
    "df['order_purchase_timestamp'] = pd.to_datetime(df['order_purchase_timestamp']) \n",
    "df['Month_year'] = df['order_purchase_timestamp'].dt.date.astype(str).str[0:7]"
   ]
  },
  {
   "cell_type": "code",
   "execution_count": 59,
   "id": "411e8158",
   "metadata": {},
   "outputs": [],
   "source": [
    "unique_customers = df.drop_duplicates(subset='customer_id')"
   ]
  },
  {
   "cell_type": "code",
   "execution_count": 60,
   "id": "5c41ddda",
   "metadata": {},
   "outputs": [
    {
     "name": "stdout",
     "output_type": "stream",
     "text": [
      "Month_year\n",
      "2016-09       3\n",
      "2016-10     324\n",
      "2016-12       1\n",
      "2017-01     800\n",
      "2017-02    1780\n",
      "2017-03    2682\n",
      "2017-04    2404\n",
      "2017-05    3700\n",
      "2017-06    3245\n",
      "2017-07    4026\n",
      "2017-08    4331\n",
      "2017-09    4285\n",
      "2017-10    4631\n",
      "2017-11    7544\n",
      "2017-12    5673\n",
      "2018-01    7269\n",
      "2018-02    6728\n",
      "2018-03    7211\n",
      "2018-04    6939\n",
      "2018-05    6873\n",
      "2018-06    6167\n",
      "2018-07    6292\n",
      "2018-08    6512\n",
      "2018-09      16\n",
      "2018-10       4\n",
      "Name: customer_id, dtype: int64\n"
     ]
    }
   ],
   "source": [
    "new_customers_per_month = unique_customers.groupby('Month_year')['customer_id'].count()\n",
    "print(new_customers_per_month)"
   ]
  },
  {
   "cell_type": "code",
   "execution_count": 61,
   "id": "d7a38384",
   "metadata": {},
   "outputs": [
    {
     "name": "stdout",
     "output_type": "stream",
     "text": [
      "   Month_year  customer_id  retention_rate\n",
      "0     2016-09            3             NaN\n",
      "1     2016-10          324    10800.000000\n",
      "2     2016-12            1        0.308642\n",
      "3     2017-01          800    80000.000000\n",
      "4     2017-02         1780      222.500000\n",
      "5     2017-03         2682      150.674157\n",
      "6     2017-04         2404       89.634601\n",
      "7     2017-05         3700      153.910150\n",
      "8     2017-06         3245       87.702703\n",
      "9     2017-07         4026      124.067797\n",
      "10    2017-08         4331      107.575758\n",
      "11    2017-09         4285       98.937890\n",
      "12    2017-10         4631      108.074679\n",
      "13    2017-11         7544      162.902181\n",
      "14    2017-12         5673       75.198834\n",
      "15    2018-01         7269      128.133263\n",
      "16    2018-02         6728       92.557436\n",
      "17    2018-03         7211      107.178954\n",
      "18    2018-04         6939       96.227985\n",
      "19    2018-05         6873       99.048854\n",
      "20    2018-06         6167       89.727921\n",
      "21    2018-07         6292      102.026917\n",
      "22    2018-08         6512      103.496503\n",
      "23    2018-09           16        0.245700\n",
      "24    2018-10            4       25.000000\n"
     ]
    }
   ],
   "source": [
    "# Create a DataFrame with unique customer and their first purchase month\n",
    "customer_first_purchase = df.groupby('customer_id')['Month_year'].min().reset_index()\n",
    "\n",
    "# Group by Month_year and count the number of unique customers\n",
    "retention = customer_first_purchase.groupby('Month_year')['customer_id'].count().reset_index()\n",
    "\n",
    "# Calculate the percentage retention\n",
    "retention['retention_rate'] = retention['customer_id'] / retention['customer_id'].shift(1) * 100\n",
    "\n",
    "# Display the result\n",
    "print(retention)"
   ]
  },
  {
   "cell_type": "code",
   "execution_count": 62,
   "id": "95ade253",
   "metadata": {},
   "outputs": [
    {
     "data": {
      "text/html": [
       "<div>\n",
       "<style scoped>\n",
       "    .dataframe tbody tr th:only-of-type {\n",
       "        vertical-align: middle;\n",
       "    }\n",
       "\n",
       "    .dataframe tbody tr th {\n",
       "        vertical-align: top;\n",
       "    }\n",
       "\n",
       "    .dataframe thead th {\n",
       "        text-align: right;\n",
       "    }\n",
       "</style>\n",
       "<table border=\"1\" class=\"dataframe\">\n",
       "  <thead>\n",
       "    <tr style=\"text-align: right;\">\n",
       "      <th></th>\n",
       "      <th>customer_id</th>\n",
       "      <th>Month_year</th>\n",
       "    </tr>\n",
       "  </thead>\n",
       "  <tbody>\n",
       "    <tr>\n",
       "      <th>0</th>\n",
       "      <td>00012a2ce6f8dcda20d059ce98491703</td>\n",
       "      <td>2017-11</td>\n",
       "    </tr>\n",
       "    <tr>\n",
       "      <th>1</th>\n",
       "      <td>000161a058600d5901f007fab4c27140</td>\n",
       "      <td>2017-07</td>\n",
       "    </tr>\n",
       "    <tr>\n",
       "      <th>2</th>\n",
       "      <td>0001fd6190edaaf884bcaf3d49edf079</td>\n",
       "      <td>2017-02</td>\n",
       "    </tr>\n",
       "    <tr>\n",
       "      <th>3</th>\n",
       "      <td>0002414f95344307404f0ace7a26f1d5</td>\n",
       "      <td>2017-08</td>\n",
       "    </tr>\n",
       "    <tr>\n",
       "      <th>4</th>\n",
       "      <td>000379cdec625522490c315e70c7a9fb</td>\n",
       "      <td>2018-04</td>\n",
       "    </tr>\n",
       "    <tr>\n",
       "      <th>...</th>\n",
       "      <td>...</td>\n",
       "      <td>...</td>\n",
       "    </tr>\n",
       "    <tr>\n",
       "      <th>99435</th>\n",
       "      <td>fffecc9f79fd8c764f843e9951b11341</td>\n",
       "      <td>2018-03</td>\n",
       "    </tr>\n",
       "    <tr>\n",
       "      <th>99436</th>\n",
       "      <td>fffeda5b6d849fbd39689bb92087f431</td>\n",
       "      <td>2018-05</td>\n",
       "    </tr>\n",
       "    <tr>\n",
       "      <th>99437</th>\n",
       "      <td>ffff42319e9b2d713724ae527742af25</td>\n",
       "      <td>2018-06</td>\n",
       "    </tr>\n",
       "    <tr>\n",
       "      <th>99438</th>\n",
       "      <td>ffffa3172527f765de70084a7e53aae8</td>\n",
       "      <td>2017-09</td>\n",
       "    </tr>\n",
       "    <tr>\n",
       "      <th>99439</th>\n",
       "      <td>ffffe8b65bbe3087b653a978c870db99</td>\n",
       "      <td>2017-09</td>\n",
       "    </tr>\n",
       "  </tbody>\n",
       "</table>\n",
       "<p>99440 rows × 2 columns</p>\n",
       "</div>"
      ],
      "text/plain": [
       "                            customer_id Month_year\n",
       "0      00012a2ce6f8dcda20d059ce98491703    2017-11\n",
       "1      000161a058600d5901f007fab4c27140    2017-07\n",
       "2      0001fd6190edaaf884bcaf3d49edf079    2017-02\n",
       "3      0002414f95344307404f0ace7a26f1d5    2017-08\n",
       "4      000379cdec625522490c315e70c7a9fb    2018-04\n",
       "...                                 ...        ...\n",
       "99435  fffecc9f79fd8c764f843e9951b11341    2018-03\n",
       "99436  fffeda5b6d849fbd39689bb92087f431    2018-05\n",
       "99437  ffff42319e9b2d713724ae527742af25    2018-06\n",
       "99438  ffffa3172527f765de70084a7e53aae8    2017-09\n",
       "99439  ffffe8b65bbe3087b653a978c870db99    2017-09\n",
       "\n",
       "[99440 rows x 2 columns]"
      ]
     },
     "execution_count": 62,
     "metadata": {},
     "output_type": "execute_result"
    }
   ],
   "source": [
    "customer_first_purchase = df.groupby('customer_id')['Month_year'].min().reset_index()\n",
    "customer_first_purchase"
   ]
  },
  {
   "cell_type": "code",
   "execution_count": 63,
   "id": "8e585df5",
   "metadata": {},
   "outputs": [
    {
     "data": {
      "image/png": "[encoded data removed]",
      "text/plain": [
       "<Figure size 864x432 with 1 Axes>"
      ]
     },
     "metadata": {
      "needs_background": "light"
     },
     "output_type": "display_data"
    }
   ],
   "source": [
    "# Sales by category\n",
    "sales_by_category = df.groupby('product_category_name')['Price_to_Pay'].sum().reset_index()\n",
    "plt.figure(figsize=(12, 6))\n",
    "sns.barplot(x='product_category_name', y='Price_to_Pay', data=sales_by_category)\n",
    "plt.xlabel('Product Category')\n",
    "plt.ylabel('Total Sales')\n",
    "plt.title('Sales by Category')\n",
    "plt.xticks(rotation=90)\n",
    "plt.show()"
   ]
  },
  {
   "cell_type": "code",
   "execution_count": 64,
   "id": "30b7cbd0",
   "metadata": {},
   "outputs": [
    {
     "data": {
      "image/png": "[encoded data removed]",
      "text/plain": [
       "<Figure size 864x432 with 1 Axes>"
      ]
     },
     "metadata": {
      "needs_background": "light"
     },
     "output_type": "display_data"
    }
   ],
   "source": [
    "# Quantity by category\n",
    "quantity_by_category = df.groupby('product_category_name')['order_item_id'].sum().reset_index()\n",
    "plt.figure(figsize=(12, 6))\n",
    "sns.barplot(x='product_category_name', y='order_item_id', data=quantity_by_category)\n",
    "plt.xlabel('Product Category')\n",
    "plt.ylabel('Total Quantity')\n",
    "plt.title('Quantity by Category')\n",
    "plt.xticks(rotation=90)\n",
    "plt.show()"
   ]
  },
  {
   "cell_type": "code",
   "execution_count": 65,
   "id": "ab73eac0",
   "metadata": {},
   "outputs": [
    {
     "data": {
      "image/png": "[encoded data removed]",
      "text/plain": [
       "<Figure size 864x432 with 1 Axes>"
      ]
     },
     "metadata": {
      "needs_background": "light"
     },
     "output_type": "display_data"
    }
   ],
   "source": [
    "# Sales by location\n",
    "sales_by_location = df.groupby('customer_state')['Price_to_Pay'].sum().reset_index()\n",
    "plt.figure(figsize=(12, 6))\n",
    "sns.barplot(x='customer_state', y='Price_to_Pay', data=sales_by_location)\n",
    "plt.xlabel('Customer Location')\n",
    "plt.ylabel('Total Sales')\n",
    "plt.title('Sales by Location')\n",
    "plt.xticks(rotation=90)\n",
    "plt.show()"
   ]
  },
  {
   "cell_type": "code",
   "execution_count": 66,
   "id": "86342dad",
   "metadata": {},
   "outputs": [
    {
     "data": {
      "image/png": "[encoded data removed]",
      "text/plain": [
       "<Figure size 864x432 with 1 Axes>"
      ]
     },
     "metadata": {
      "needs_background": "light"
     },
     "output_type": "display_data"
    }
   ],
   "source": [
    "# Quantity by location\n",
    "quantity_by_location = df.groupby('customer_state')['order_item_id'].sum().reset_index()\n",
    "plt.figure(figsize=(12, 6))\n",
    "sns.barplot(x='customer_state', y='order_item_id', data=quantity_by_location)\n",
    "plt.xlabel('Customer Location')\n",
    "plt.ylabel('Total Quantity')\n",
    "plt.title('Quantity by Location')\n",
    "plt.xticks(rotation=90)\n",
    "plt.show()"
   ]
  },
  {
   "cell_type": "code",
   "execution_count": 67,
   "id": "432d2672",
   "metadata": {},
   "outputs": [
    {
     "data": {
      "image/png": "[encoded data removed]",
      "text/plain": [
       "<Figure size 1152x432 with 1 Axes>"
      ]
     },
     "metadata": {
      "needs_background": "light"
     },
     "output_type": "display_data"
    }
   ],
   "source": [
    "# Sales by month\n",
    "df['Month_year'] = df['order_purchase_timestamp'].dt.to_period('M')\n",
    "sales_by_month = df.groupby('Month_year')['Price_to_Pay'].sum().reset_index()\n",
    "plt.figure(figsize=(16, 6))\n",
    "sns.barplot(x='Month_year', y='Price_to_Pay', data=sales_by_month)\n",
    "plt.ylabel('Sales')\n",
    "plt.xticks(rotation=90)\n",
    "plt.title('Sales by Month')\n",
    "plt.show()"
   ]
  },
  {
   "cell_type": "code",
   "execution_count": 68,
   "id": "49749699",
   "metadata": {},
   "outputs": [
    {
     "data": {
      "image/png": "[encoded data removed]",
      "text/plain": [
       "<Figure size 1152x432 with 1 Axes>"
      ]
     },
     "metadata": {
      "needs_background": "light"
     },
     "output_type": "display_data"
    }
   ],
   "source": [
    "# Quantity by month\n",
    "quantity_by_month = df.groupby('Month_year')['order_item_id'].sum().reset_index()\n",
    "plt.figure(figsize=(16, 6))\n",
    "sns.barplot(x='Month_year', y='order_item_id', data=quantity_by_month)\n",
    "plt.ylabel('Quantity')\n",
    "plt.xticks(rotation=90)\n",
    "plt.title('Quantity by Month')\n",
    "plt.show()"
   ]
  },
  {
   "cell_type": "code",
   "execution_count": 69,
   "id": "3a727d82",
   "metadata": {},
   "outputs": [
    {
     "data": {
      "image/png": "[encoded data removed]",
      "text/plain": [
       "<Figure size 1152x432 with 1 Axes>"
      ]
     },
     "metadata": {
      "needs_background": "light"
     },
     "output_type": "display_data"
    }
   ],
   "source": [
    "# Sales by week\n",
    "df['week_year'] = df['order_purchase_timestamp'].dt.strftime('%Y-%U')\n",
    "sales_by_week = df.groupby('week_year')['Price_to_Pay'].sum().reset_index()\n",
    "plt.figure(figsize=(16, 6))\n",
    "sns.lineplot(x='week_year', y='Price_to_Pay', data=sales_by_week)\n",
    "plt.ylabel('Sales')\n",
    "plt.xticks(rotation=90)\n",
    "plt.title('Sales by Week')\n",
    "plt.show()"
   ]
  },
  {
   "cell_type": "code",
   "execution_count": 70,
   "id": "4bae9873",
   "metadata": {},
   "outputs": [
    {
     "data": {
      "image/png": "[encoded data removed]",
      "text/plain": [
       "<Figure size 1152x432 with 1 Axes>"
      ]
     },
     "metadata": {
      "needs_background": "light"
     },
     "output_type": "display_data"
    }
   ],
   "source": [
    "# Quantity by week\n",
    "quantity_by_week = df.groupby('week_year')['order_item_id'].sum().reset_index()\n",
    "plt.figure(figsize=(16, 6))\n",
    "sns.lineplot(x='week_year', y='order_item_id', data=quantity_by_week)\n",
    "plt.ylabel('Quantity')\n",
    "plt.xticks(rotation=90)\n",
    "plt.title('Quantity by Week')\n",
    "plt.show()"
   ]
  },
  {
   "cell_type": "code",
   "execution_count": 71,
   "id": "85d4bb3e",
   "metadata": {},
   "outputs": [
    {
     "data": {
      "image/png": "[encoded data removed]",
      "text/plain": [
       "<Figure size 1152x432 with 1 Axes>"
      ]
     },
     "metadata": {
      "needs_background": "light"
     },
     "output_type": "display_data"
    }
   ],
   "source": [
    "# Sales by day\n",
    "df['day'] = df['order_purchase_timestamp'].dt.date\n",
    "sales_by_day = df.groupby('day')['Price_to_Pay'].sum().reset_index()\n",
    "plt.figure(figsize=(16, 6))\n",
    "sns.lineplot(x='day', y='Price_to_Pay', data=sales_by_day)\n",
    "plt.ylabel('Sales')\n",
    "plt.xticks(rotation=90)\n",
    "plt.title('Sales by Day')\n",
    "plt.show()"
   ]
  },
  {
   "cell_type": "code",
   "execution_count": 72,
   "id": "19db6177",
   "metadata": {},
   "outputs": [
    {
     "data": {
      "image/png": "[encoded data removed]",
      "text/plain": [
       "<Figure size 1152x432 with 1 Axes>"
      ]
     },
     "metadata": {
      "needs_background": "light"
     },
     "output_type": "display_data"
    }
   ],
   "source": [
    "# Quantity by day\n",
    "quantity_by_day = df.groupby('day')['order_item_id'].sum().reset_index()\n",
    "plt.figure(figsize=(16, 6))\n",
    "sns.lineplot(x='day', y='order_item_id', data=quantity_by_day)\n",
    "plt.ylabel('Quantity')\n",
    "plt.xticks(rotation=90)\n",
    "plt.title('Quantity by Day')\n",
    "plt.show()"
   ]
  },
  {
   "cell_type": "code",
   "execution_count": 73,
   "id": "6c89fd22",
   "metadata": {},
   "outputs": [
    {
     "data": {
      "image/png": "[encoded data removed]",
      "text/plain": [
       "<Figure size 1152x432 with 1 Axes>"
      ]
     },
     "metadata": {
      "needs_background": "light"
     },
     "output_type": "display_data"
    }
   ],
   "source": [
    "# Sales by payment method\n",
    "sales_by_payment_method = df.groupby('payment_type')['Price_to_Pay'].sum().reset_index()\n",
    "plt.figure(figsize=(16, 6))\n",
    "sns.barplot(x='payment_type', y='Price_to_Pay', data=sales_by_payment_method)\n",
    "plt.ylabel('Sales')\n",
    "plt.title('Sales by Payment Method')\n",
    "plt.show()"
   ]
  },
  {
   "cell_type": "code",
   "execution_count": 74,
   "id": "3d027d5b",
   "metadata": {},
   "outputs": [
    {
     "data": {
      "image/png": "[encoded data removed]",
      "text/plain": [
       "<Figure size 1152x432 with 1 Axes>"
      ]
     },
     "metadata": {
      "needs_background": "light"
     },
     "output_type": "display_data"
    }
   ],
   "source": [
    "# Quantity by payment method\n",
    "quantity_by_payment_method = df.groupby('payment_type')['order_item_id'].sum().reset_index()\n",
    "plt.figure(figsize=(16, 6))\n",
    "sns.barplot(x='payment_type', y='order_item_id', data=quantity_by_payment_method)\n",
    "plt.ylabel('Quantity')\n",
    "plt.title('Quantity by Payment Method')\n",
    "plt.show()"
   ]
  },
  {
   "cell_type": "code",
   "execution_count": 75,
   "id": "8ea1c6de",
   "metadata": {},
   "outputs": [
    {
     "name": "stdout",
     "output_type": "stream",
     "text": [
      "      Month_year                        product_id\n",
      "0        2016-09  c1488892604e4ba5cff5b4eb4d595400\n",
      "278      2016-10                            unkown\n",
      "279      2016-12  f5d8f4fbc70ca2a0038b9a0010ed5cb0\n",
      "684      2017-01  a703f5ade6e4fae527357132230ea778\n",
      "2159     2017-02                            unkown\n",
      "3936     2017-03                            unkown\n",
      "4906     2017-04  99a4788cb24856965c36a24e339b6058\n",
      "7014     2017-05  99a4788cb24856965c36a24e339b6058\n",
      "8495     2017-06  42a2c92a0979a949ca4ea89ec5c7b934\n",
      "11529    2017-07  99a4788cb24856965c36a24e339b6058\n",
      "15251    2017-08  f1c7f353075ce59d8a6f3cf58f419c9c\n",
      "18217    2017-09                            unkown\n",
      "21209    2017-10                            unkown\n",
      "25716    2017-11                            unkown\n",
      "29138    2017-12                            unkown\n",
      "31856    2018-01  aca2eb7d00ea1a7b8ebd4e68314663af\n",
      "34140    2018-02  3dd2a17168ec895c781a9191c1e95ad7\n",
      "39885    2018-03  aca2eb7d00ea1a7b8ebd4e68314663af\n",
      "42638    2018-04  53b36df67ebb7c41585e8d54d6772e08\n",
      "46901    2018-05  53b36df67ebb7c41585e8d54d6772e08\n",
      "50054    2018-06  19c91ef95d509ea33eda93495c4d3481\n",
      "57114    2018-07  d285360f29ac7fd97640bf0baef03de0\n",
      "62195    2018-08                            unkown\n",
      "62197    2018-09                            unkown\n",
      "62198    2018-10                            unkown\n"
     ]
    }
   ],
   "source": [
    "# Popular Products by month\n",
    "popular_products_month = df.groupby(['Month_year', 'product_id']).size().reset_index(name='Count')\n",
    "popular_products_month = popular_products_month.sort_values(['Month_year', 'Count'], ascending=[True, False])\n",
    "popular_products_month = popular_products_month.groupby('Month_year').head(1)\n",
    "print(popular_products_month[['Month_year', 'product_id']])"
   ]
  },
  {
   "cell_type": "code",
   "execution_count": 76,
   "id": "21868869",
   "metadata": {},
   "outputs": [
    {
     "name": "stdout",
     "output_type": "stream",
     "text": [
      "                              seller_id                        product_id\n",
      "0      0015a82c2db000af6aaaf3ae2ecb0532  a2ff5a97bf95719e38ea2e3b4105bce8\n",
      "1      001cca7ae9ae17fb1caed9dfb1094831  08574b074924071f4e201e151b152b4e\n",
      "12     001e6ad469a905060d959994f1b41e4f  093cd981b714bcdff182b427d87fc8fc\n",
      "14     002100f778ceb8431b7a1020ff7ab48f  158102fe543dbaeb84d87811bfe06d0d\n",
      "37     003554e2dce176b5555353e4f3555ac8  67f36b3689147d882d2b298fd0715d80\n",
      "...                                 ...                               ...\n",
      "34397  ffdd9f82b9a447f6f8d4b91554cc7dd3  ada800a927673ac73cdfbbd2c832331b\n",
      "34402  ffeee66ac5d5a62fe688b9d26f83f534  1347d4320dcd0acd750e37bb3d94a918\n",
      "34430  fffd5413c0700ac820c7069d66d98c89  ebb12274522d82caa7dca657873b2ad7\n",
      "34437  ffff564a4f9085cd26170f4732393726  8f7a3322e1abfed89ac080b0f7364779\n",
      "34448                            unkown                            unkown\n",
      "\n",
      "[3096 rows x 2 columns]\n"
     ]
    }
   ],
   "source": [
    "# Popular Products by seller\n",
    "popular_products_seller = df.groupby(['seller_id', 'product_id']).size().reset_index(name='Count')\n",
    "popular_products_seller = popular_products_seller.sort_values(['seller_id', 'Count'], ascending=[True, False])\n",
    "popular_products_seller = popular_products_seller.groupby('seller_id').head(1)\n",
    "print(popular_products_seller[['seller_id', 'product_id']])"
   ]
  },
  {
   "cell_type": "code",
   "execution_count": 77,
   "id": "67fc7f3e",
   "metadata": {},
   "outputs": [
    {
     "name": "stdout",
     "output_type": "stream",
     "text": [
      "          customer_state                        product_id\n",
      "24298     Andhra Pradesh                            unkown\n",
      "25307  Arunachal Pradesh                            unkown\n",
      "29931       Chhattisgarh                            unkown\n",
      "32587              Delhi                            unkown\n",
      "32588                Goa  2a5806f10d0f00e5ad032dd2e3c8806e\n",
      "37820            Gujarat                            unkown\n",
      "39691            Haryana                            unkown\n",
      "40400   Himachal Pradesh                            unkown\n",
      "41213    Jammu & Kashmir  99a4788cb24856965c36a24e339b6058\n",
      "44787          Karnataka                            unkown\n",
      "46115             Kerala                            unkown\n",
      "48437     Madhya Pradesh                            unkown\n",
      "50144        Maharashtra                            unkown\n",
      "50544             Orissa  aca2eb7d00ea1a7b8ebd4e68314663af\n",
      "50827             Punjab  2b4609f8948be18874494203496bc318\n",
      "51550          Rajasthan  3dd2a17168ec895c781a9191c1e95ad7\n",
      "53853         Tamil Nadu                            unkown\n",
      "54053      Uttar Pradesh  3dd2a17168ec895c781a9191c1e95ad7\n",
      "54786        Uttaranchal  29427de7f8a9ee983d9dbc51cec569b4\n",
      "55091        West Bengal  99a4788cb24856965c36a24e339b6058\n"
     ]
    }
   ],
   "source": [
    "# Popular Products by state\n",
    "popular_products_state = df.groupby(['customer_state', 'product_id']).size().reset_index(name='Count')\n",
    "popular_products_state = popular_products_state.sort_values(['customer_state', 'Count'], ascending=[True, False])\n",
    "popular_products_state = popular_products_state.groupby('customer_state').head(1)\n",
    "print(popular_products_state[['customer_state', 'product_id']])"
   ]
  },
  {
   "cell_type": "code",
   "execution_count": 78,
   "id": "a7b2ef21",
   "metadata": {},
   "outputs": [
    {
     "name": "stdout",
     "output_type": "stream",
     "text": [
      "            product_category_name                        product_id\n",
      "7      Agro_Industry_And_Commerce  11250b0d4b709fee92441c5f34122aed\n",
      "144              Air_Conditioning  98e91d0f32954dcd8505875bb2b42cdb\n",
      "218                           Art  4fe644d766c7566dbc46fb851363cb3b\n",
      "267         Arts_And_Craftmanship  b9976e9c22fb1540bd71d1bcd2989475\n",
      "316                         Audio  db5efde3ad0cc579b130d71c4b2db522\n",
      "...                           ...                               ...\n",
      "28449      Tablets_Printing_Image  6bbe55cf8f85c87b6eebb775a53402f4\n",
      "29339                   Telephony  c9c6fde711572c1ad99ca12728c6af00\n",
      "30360                        Toys  880be32f4db1d9f6e2bec38fb6ac23ab\n",
      "31448               Watches_Gifts  53b36df67ebb7c41585e8d54d6772e08\n",
      "32951                      unkown                            unkown\n",
      "\n",
      "[72 rows x 2 columns]\n"
     ]
    }
   ],
   "source": [
    "# Popular Products by category\n",
    "popular_products_category = df.groupby(['product_category_name', 'product_id']).size().reset_index(name='Count')\n",
    "popular_products_category = popular_products_category.sort_values(['product_category_name', 'Count'], ascending=[True, False])\n",
    "popular_products_category = popular_products_category.groupby('product_category_name').head(1)\n",
    "print(popular_products_category[['product_category_name', 'product_id']])"
   ]
  },
  {
   "cell_type": "code",
   "execution_count": 79,
   "id": "e33135fc",
   "metadata": {},
   "outputs": [
    {
     "name": "stdout",
     "output_type": "stream",
     "text": [
      "         customer_state product_category_name\n",
      "7        Andhra Pradesh        Bed_Bath_Table\n",
      "78    Arunachal Pradesh        Bed_Bath_Table\n",
      "134        Chhattisgarh        Bed_Bath_Table\n",
      "232               Delhi         Health_Beauty\n",
      "259                 Goa                  Auto\n",
      "276             Gujarat        Bed_Bath_Table\n",
      "344             Haryana        Bed_Bath_Table\n",
      "402    Himachal Pradesh        Bed_Bath_Table\n",
      "455     Jammu & Kashmir        Bed_Bath_Table\n",
      "513           Karnataka        Bed_Bath_Table\n",
      "577              Kerala        Bed_Bath_Table\n",
      "635      Madhya Pradesh        Bed_Bath_Table\n",
      "702         Maharashtra        Bed_Bath_Table\n",
      "762              Orissa        Bed_Bath_Table\n",
      "838              Punjab         Health_Beauty\n",
      "904           Rajasthan        Sports_Leisure\n",
      "916          Tamil Nadu        Bed_Bath_Table\n",
      "1003      Uttar Pradesh         Health_Beauty\n",
      "1031        Uttaranchal            Cool_Stuff\n",
      "1073        West Bengal         Health_Beauty\n"
     ]
    }
   ],
   "source": [
    "# Popular categories by state\n",
    "popular_categories_state = df.groupby(['customer_state', 'product_category_name']).size().reset_index(name='Count')\n",
    "popular_categories_state = popular_categories_state.sort_values(['customer_state', 'Count'], ascending=[True, False])\n",
    "popular_categories_state = popular_categories_state.groupby('customer_state').head(1)\n",
    "print(popular_categories_state[['customer_state', 'product_category_name']])"
   ]
  },
  {
   "cell_type": "code",
   "execution_count": 80,
   "id": "d6906394",
   "metadata": {},
   "outputs": [
    {
     "name": "stdout",
     "output_type": "stream",
     "text": [
      "     Month_year     product_category_name\n",
      "0       2016-09           Furniture_Decor\n",
      "21      2016-10           Furniture_Decor\n",
      "35      2016-12  Fashion_Bags_Accessories\n",
      "57      2017-01           Furniture_Decor\n",
      "107     2017-02           Furniture_Decor\n",
      "158     2017-03           Furniture_Decor\n",
      "191     2017-04            Bed_Bath_Table\n",
      "251     2017-05            Bed_Bath_Table\n",
      "309     2017-06            Bed_Bath_Table\n",
      "370     2017-07            Bed_Bath_Table\n",
      "431     2017-08            Bed_Bath_Table\n",
      "495     2017-09            Bed_Bath_Table\n",
      "561     2017-10            Bed_Bath_Table\n",
      "625     2017-11            Bed_Bath_Table\n",
      "691     2017-12            Bed_Bath_Table\n",
      "754     2018-01            Bed_Bath_Table\n",
      "827     2018-02     Computers_Accessories\n",
      "885     2018-03            Bed_Bath_Table\n",
      "953     2018-04            Bed_Bath_Table\n",
      "1053    2018-05             Health_Beauty\n",
      "1117    2018-06             Health_Beauty\n",
      "1183    2018-07             Health_Beauty\n",
      "1248    2018-08             Health_Beauty\n",
      "1274    2018-09                    unkown\n",
      "1275    2018-10                    unkown\n"
     ]
    }
   ],
   "source": [
    "# Popular categories by month\n",
    "df['Month_year'] = df['order_purchase_timestamp'].dt.to_period('M')\n",
    "popular_categories_month = df.groupby(['Month_year', 'product_category_name']).size().reset_index(name='Count')\n",
    "popular_categories_month = popular_categories_month.sort_values(['Month_year', 'Count'], ascending=[True, False])\n",
    "popular_categories_month = popular_categories_month.groupby('Month_year').head(1)\n",
    "print(popular_categories_month[['Month_year', 'product_category_name']])"
   ]
  },
  {
   "cell_type": "code",
   "execution_count": 81,
   "id": "8d335af7",
   "metadata": {},
   "outputs": [
    {
     "name": "stdout",
     "output_type": "stream",
     "text": [
      "                             product_id product_category_name    price\n",
      "26503  489ae2aa008f021502940f251d4cce7f            Housewares  6735.00\n",
      "33970  69c590f7ffc7bf8db97190b6cb6ed62e             Computers  6729.00\n",
      "4162   1bdf5e6731585cf01aa8169c7028d6ad                   Art  6499.00\n",
      "63855  a6492cc69376c469ab6f61d8f44de961      Small_Appliances  4799.00\n",
      "48350  c3ed642d592594bb648ff4a04cee2747      Small_Appliances  4690.00\n",
      "48366  259037a6a41845e455183f89c5035f18             Computers  4590.00\n",
      "13892  a1beef8f3992dbd4cd8726796aa69c53   Musical_Instruments  4399.87\n",
      "23267  6cdf8fc1d741c76586d8b6b15e9eef30        Consoles_Games  4099.99\n",
      "3197   dd113cb02b2af9c8e5787e8f1f0722f6        Sports_Leisure  4059.00\n",
      "68262  6902c1962dd19d540807d0ab8fade5c6         Watches_Gifts  3999.90\n"
     ]
    }
   ],
   "source": [
    "# Sort the DataFrame by price in descending order\n",
    "sorted_products = df.sort_values('price', ascending=False)\n",
    "\n",
    "# Select the top 10 most expensive products\n",
    "top_10_expensive_products = sorted_products.head(10)\n",
    "\n",
    "# Print the result\n",
    "print(top_10_expensive_products[['product_id', 'product_category_name', 'price']])"
   ]
  },
  {
   "cell_type": "code",
   "execution_count": 82,
   "id": "5887fe4c",
   "metadata": {},
   "outputs": [
    {
     "data": {
      "text/html": [
       "<div>\n",
       "<style scoped>\n",
       "    .dataframe tbody tr th:only-of-type {\n",
       "        vertical-align: middle;\n",
       "    }\n",
       "\n",
       "    .dataframe tbody tr th {\n",
       "        vertical-align: top;\n",
       "    }\n",
       "\n",
       "    .dataframe thead th {\n",
       "        text-align: right;\n",
       "    }\n",
       "</style>\n",
       "<table border=\"1\" class=\"dataframe\">\n",
       "  <thead>\n",
       "    <tr style=\"text-align: right;\">\n",
       "      <th></th>\n",
       "      <th>customer_id</th>\n",
       "      <th>payment_value</th>\n",
       "    </tr>\n",
       "  </thead>\n",
       "  <tbody>\n",
       "    <tr>\n",
       "      <th>0</th>\n",
       "      <td>00012a2ce6f8dcda20d059ce98491703</td>\n",
       "      <td>114.74</td>\n",
       "    </tr>\n",
       "    <tr>\n",
       "      <th>1</th>\n",
       "      <td>000161a058600d5901f007fab4c27140</td>\n",
       "      <td>67.41</td>\n",
       "    </tr>\n",
       "    <tr>\n",
       "      <th>2</th>\n",
       "      <td>0001fd6190edaaf884bcaf3d49edf079</td>\n",
       "      <td>195.42</td>\n",
       "    </tr>\n",
       "    <tr>\n",
       "      <th>3</th>\n",
       "      <td>0002414f95344307404f0ace7a26f1d5</td>\n",
       "      <td>179.35</td>\n",
       "    </tr>\n",
       "    <tr>\n",
       "      <th>4</th>\n",
       "      <td>000379cdec625522490c315e70c7a9fb</td>\n",
       "      <td>107.01</td>\n",
       "    </tr>\n",
       "    <tr>\n",
       "      <th>...</th>\n",
       "      <td>...</td>\n",
       "      <td>...</td>\n",
       "    </tr>\n",
       "    <tr>\n",
       "      <th>99435</th>\n",
       "      <td>fffecc9f79fd8c764f843e9951b11341</td>\n",
       "      <td>71.23</td>\n",
       "    </tr>\n",
       "    <tr>\n",
       "      <th>99436</th>\n",
       "      <td>fffeda5b6d849fbd39689bb92087f431</td>\n",
       "      <td>63.13</td>\n",
       "    </tr>\n",
       "    <tr>\n",
       "      <th>99437</th>\n",
       "      <td>ffff42319e9b2d713724ae527742af25</td>\n",
       "      <td>214.13</td>\n",
       "    </tr>\n",
       "    <tr>\n",
       "      <th>99438</th>\n",
       "      <td>ffffa3172527f765de70084a7e53aae8</td>\n",
       "      <td>45.50</td>\n",
       "    </tr>\n",
       "    <tr>\n",
       "      <th>99439</th>\n",
       "      <td>ffffe8b65bbe3087b653a978c870db99</td>\n",
       "      <td>18.37</td>\n",
       "    </tr>\n",
       "  </tbody>\n",
       "</table>\n",
       "<p>99440 rows × 2 columns</p>\n",
       "</div>"
      ],
      "text/plain": [
       "                            customer_id  payment_value\n",
       "0      00012a2ce6f8dcda20d059ce98491703         114.74\n",
       "1      000161a058600d5901f007fab4c27140          67.41\n",
       "2      0001fd6190edaaf884bcaf3d49edf079         195.42\n",
       "3      0002414f95344307404f0ace7a26f1d5         179.35\n",
       "4      000379cdec625522490c315e70c7a9fb         107.01\n",
       "...                                 ...            ...\n",
       "99435  fffecc9f79fd8c764f843e9951b11341          71.23\n",
       "99436  fffeda5b6d849fbd39689bb92087f431          63.13\n",
       "99437  ffff42319e9b2d713724ae527742af25         214.13\n",
       "99438  ffffa3172527f765de70084a7e53aae8          45.50\n",
       "99439  ffffe8b65bbe3087b653a978c870db99          18.37\n",
       "\n",
       "[99440 rows x 2 columns]"
      ]
     },
     "execution_count": 82,
     "metadata": {},
     "output_type": "execute_result"
    }
   ],
   "source": [
    "# Calculate the total revenue for each customer\n",
    "customer_revenue = df.groupby('customer_id')['payment_value'].sum().reset_index()\n",
    "customer_revenue"
   ]
  },
  {
   "cell_type": "code",
   "execution_count": 83,
   "id": "18f63afb",
   "metadata": {},
   "outputs": [
    {
     "name": "stdout",
     "output_type": "stream",
     "text": [
      "                            customer_id  payment_value  payment_group\n",
      "0      00012a2ce6f8dcda20d059ce98491703         114.74              2\n",
      "1      000161a058600d5901f007fab4c27140          67.41              1\n",
      "2      0001fd6190edaaf884bcaf3d49edf079         195.42              3\n",
      "3      0002414f95344307404f0ace7a26f1d5         179.35              3\n",
      "4      000379cdec625522490c315e70c7a9fb         107.01              2\n",
      "...                                 ...            ...            ...\n",
      "99435  fffecc9f79fd8c764f843e9951b11341          71.23              1\n",
      "99436  fffeda5b6d849fbd39689bb92087f431          63.13              1\n",
      "99437  ffff42319e9b2d713724ae527742af25         214.13              4\n",
      "99438  ffffa3172527f765de70084a7e53aae8          45.50              0\n",
      "99439  ffffe8b65bbe3087b653a978c870db99          18.37              0\n",
      "\n",
      "[99440 rows x 3 columns]\n"
     ]
    }
   ],
   "source": [
    "\n",
    "# Divide customers into groups based on payment using quantiles\n",
    "customer_revenue['payment_group'] = pd.qcut(customer_revenue['payment_value'], q=5, labels=False)\n",
    "\n",
    "# Print the result\n",
    "print(customer_revenue[['customer_id', 'payment_value', 'payment_group']])"
   ]
  },
  {
   "cell_type": "code",
   "execution_count": 84,
   "id": "5c9949ac",
   "metadata": {},
   "outputs": [
    {
     "name": "stdout",
     "output_type": "stream",
     "text": [
      "                             seller_id  payment_value  revenue_group\n",
      "0     0015a82c2db000af6aaaf3ae2ecb0532        2748.06              3\n",
      "1     001cca7ae9ae17fb1caed9dfb1094831       34206.61              4\n",
      "2     001e6ad469a905060d959994f1b41e4f         267.94              1\n",
      "3     002100f778ceb8431b7a1020ff7ab48f        2370.92              3\n",
      "4     003554e2dce176b5555353e4f3555ac8         139.38              0\n",
      "...                                ...            ...            ...\n",
      "3091  ffdd9f82b9a447f6f8d4b91554cc7dd3        2815.31              3\n",
      "3092  ffeee66ac5d5a62fe688b9d26f83f534        2259.55              3\n",
      "3093  fffd5413c0700ac820c7069d66d98c89       12224.33              4\n",
      "3094  ffff564a4f9085cd26170f4732393726        1770.86              3\n",
      "3095                            unkown      158424.81              4\n",
      "\n",
      "[3096 rows x 3 columns]\n"
     ]
    }
   ],
   "source": [
    "# Calculate the total revenue for each seller\n",
    "seller_revenue = df.groupby('seller_id')['payment_value'].sum().reset_index()\n",
    "\n",
    "# Divide sellers into groups based on revenue using quantiles\n",
    "seller_revenue['revenue_group'] = pd.qcut(seller_revenue['payment_value'], q=5, labels=False)\n",
    "\n",
    "# Print the result\n",
    "print(seller_revenue[['seller_id', 'payment_value', 'revenue_group']])"
   ]
  },
  {
   "cell_type": "code",
   "execution_count": 85,
   "id": "0b117354",
   "metadata": {},
   "outputs": [
    {
     "data": {
      "text/html": [
       "<div>\n",
       "<style scoped>\n",
       "    .dataframe tbody tr th:only-of-type {\n",
       "        vertical-align: middle;\n",
       "    }\n",
       "\n",
       "    .dataframe tbody tr th {\n",
       "        vertical-align: top;\n",
       "    }\n",
       "\n",
       "    .dataframe thead th {\n",
       "        text-align: right;\n",
       "    }\n",
       "</style>\n",
       "<table border=\"1\" class=\"dataframe\">\n",
       "  <thead>\n",
       "    <tr style=\"text-align: right;\">\n",
       "      <th></th>\n",
       "      <th>order_id</th>\n",
       "      <th>customer_id</th>\n",
       "      <th>order_status</th>\n",
       "      <th>order_purchase_timestamp</th>\n",
       "      <th>review_id</th>\n",
       "      <th>review_score</th>\n",
       "      <th>review_creation_date</th>\n",
       "      <th>review_answer_timestamp</th>\n",
       "      <th>payment_type</th>\n",
       "      <th>payment_installments</th>\n",
       "      <th>payment_value</th>\n",
       "      <th>order_item_id</th>\n",
       "      <th>product_id</th>\n",
       "      <th>seller_id</th>\n",
       "      <th>price</th>\n",
       "      <th>freight_value</th>\n",
       "      <th>customer_unique_id</th>\n",
       "      <th>customer_zip_code_prefix</th>\n",
       "      <th>customer_city</th>\n",
       "      <th>customer_state</th>\n",
       "      <th>product_category_name</th>\n",
       "      <th>geolocation_zip_code_prefix</th>\n",
       "      <th>Price_to_Pay</th>\n",
       "      <th>Month_year</th>\n",
       "      <th>week_year</th>\n",
       "      <th>day</th>\n",
       "    </tr>\n",
       "  </thead>\n",
       "  <tbody>\n",
       "    <tr>\n",
       "      <th>2</th>\n",
       "      <td>e481f51cbdc54678b7cc49136f2d6af7</td>\n",
       "      <td>9ef432eb6251297304e76186b10a928d</td>\n",
       "      <td>delivered</td>\n",
       "      <td>2017-10-02 10:56:00</td>\n",
       "      <td>a54f0611adc9ed256b57ede6b6eb5114</td>\n",
       "      <td>4</td>\n",
       "      <td>10/11/2017 0:00</td>\n",
       "      <td>10/12/2017 3:43</td>\n",
       "      <td>voucher</td>\n",
       "      <td>1.0</td>\n",
       "      <td>18.59</td>\n",
       "      <td>1.0</td>\n",
       "      <td>87285b34884572647811a353c7ac498a</td>\n",
       "      <td>3504c0cb71d7fa48d967e0e4c94d59d9</td>\n",
       "      <td>29.99</td>\n",
       "      <td>8.72</td>\n",
       "      <td>7c396fd4830fd04220f754e42b4e5bff</td>\n",
       "      <td>3149</td>\n",
       "      <td>Akkarampalle</td>\n",
       "      <td>Andhra Pradesh</td>\n",
       "      <td>Housewares</td>\n",
       "      <td>3149.0</td>\n",
       "      <td>38.71</td>\n",
       "      <td>2017-10</td>\n",
       "      <td>2017-40</td>\n",
       "      <td>2017-10-02</td>\n",
       "    </tr>\n",
       "    <tr>\n",
       "      <th>3</th>\n",
       "      <td>53cdb2fc8bc7dce0b6741e2150273451</td>\n",
       "      <td>b0830fb4747a6c6d20dea0b8c802d7ef</td>\n",
       "      <td>delivered</td>\n",
       "      <td>2018-07-24 20:41:00</td>\n",
       "      <td>8d5266042046a06655c8db133d120ba5</td>\n",
       "      <td>4</td>\n",
       "      <td>8/8/2018 0:00</td>\n",
       "      <td>8/8/2018 18:37</td>\n",
       "      <td>UPI</td>\n",
       "      <td>1.0</td>\n",
       "      <td>141.46</td>\n",
       "      <td>1.0</td>\n",
       "      <td>595fac2a385ac33a80bd5114aec74eb8</td>\n",
       "      <td>289cdb325fb7e7f891c38608bf9e0962</td>\n",
       "      <td>118.70</td>\n",
       "      <td>22.76</td>\n",
       "      <td>af07308b275d755c9edb36a90c618231</td>\n",
       "      <td>47813</td>\n",
       "      <td>Pandariya</td>\n",
       "      <td>Chhattisgarh</td>\n",
       "      <td>Perfumery</td>\n",
       "      <td>47813.0</td>\n",
       "      <td>141.46</td>\n",
       "      <td>2018-07</td>\n",
       "      <td>2018-29</td>\n",
       "      <td>2018-07-24</td>\n",
       "    </tr>\n",
       "  </tbody>\n",
       "</table>\n",
       "</div>"
      ],
      "text/plain": [
       "                           order_id                       customer_id  \\\n",
       "2  e481f51cbdc54678b7cc49136f2d6af7  9ef432eb6251297304e76186b10a928d   \n",
       "3  53cdb2fc8bc7dce0b6741e2150273451  b0830fb4747a6c6d20dea0b8c802d7ef   \n",
       "\n",
       "  order_status order_purchase_timestamp                         review_id  \\\n",
       "2    delivered      2017-10-02 10:56:00  a54f0611adc9ed256b57ede6b6eb5114   \n",
       "3    delivered      2018-07-24 20:41:00  8d5266042046a06655c8db133d120ba5   \n",
       "\n",
       "   review_score review_creation_date review_answer_timestamp payment_type  \\\n",
       "2             4      10/11/2017 0:00         10/12/2017 3:43      voucher   \n",
       "3             4        8/8/2018 0:00          8/8/2018 18:37          UPI   \n",
       "\n",
       "   payment_installments  payment_value  order_item_id  \\\n",
       "2                   1.0          18.59            1.0   \n",
       "3                   1.0         141.46            1.0   \n",
       "\n",
       "                         product_id                         seller_id   price  \\\n",
       "2  87285b34884572647811a353c7ac498a  3504c0cb71d7fa48d967e0e4c94d59d9   29.99   \n",
       "3  595fac2a385ac33a80bd5114aec74eb8  289cdb325fb7e7f891c38608bf9e0962  118.70   \n",
       "\n",
       "   freight_value                customer_unique_id  customer_zip_code_prefix  \\\n",
       "2           8.72  7c396fd4830fd04220f754e42b4e5bff                      3149   \n",
       "3          22.76  af07308b275d755c9edb36a90c618231                     47813   \n",
       "\n",
       "  customer_city  customer_state product_category_name  \\\n",
       "2  Akkarampalle  Andhra Pradesh            Housewares   \n",
       "3     Pandariya    Chhattisgarh             Perfumery   \n",
       "\n",
       "   geolocation_zip_code_prefix  Price_to_Pay Month_year week_year         day  \n",
       "2                       3149.0         38.71    2017-10   2017-40  2017-10-02  \n",
       "3                      47813.0        141.46    2018-07   2018-29  2018-07-24  "
      ]
     },
     "execution_count": 85,
     "metadata": {},
     "output_type": "execute_result"
    }
   ],
   "source": [
    "df.head(2)"
   ]
  },
  {
   "cell_type": "code",
   "execution_count": 87,
   "id": "758455ad",
   "metadata": {},
   "outputs": [
    {
     "data": {
      "image/png": "[encoded data removed]",
      "text/plain": [
       "<Figure size 432x288 with 1 Axes>"
      ]
     },
     "metadata": {
      "needs_background": "light"
     },
     "output_type": "display_data"
    }
   ],
   "source": [
    "# Calculate the count of each payment type\n",
    "payment_counts = df['payment_type'].value_counts()\n",
    "\n",
    "# Plot the distribution of payment types\n",
    "payment_counts.plot(kind='bar')\n",
    "plt.xlabel('Payment Type')\n",
    "plt.ylabel('Count')\n",
    "plt.title('Payment Distribution')\n",
    "plt.show()"
   ]
  },
  {
   "cell_type": "code",
   "execution_count": 88,
   "id": "c3549db4",
   "metadata": {},
   "outputs": [
    {
     "name": "stdout",
     "output_type": "stream",
     "text": [
      "Top 10 Categories with Maximum Rating:\n",
      "                    product_category_name  review_score\n",
      "11                      Cds_Dvds_Musicals      4.666667\n",
      "29              Fashion_Childrens_Clothes      4.500000\n",
      "8                  Books_General_Interest      4.439623\n",
      "9                          Books_Imported      4.389831\n",
      "37                             Food_Drink      4.380342\n",
      "22                Costruction_Tools_Tools      4.371134\n",
      "10                        Books_Technical      4.340909\n",
      "53                    Luggage_Accessories      4.327307\n",
      "64  Small_Appliances_Home_Oven_And_Coffee      4.302632\n",
      "35                                Flowers      4.275862\n",
      "Top 10 Categories with Minimum Rating:\n",
      "                product_category_name  review_score\n",
      "47                       Home_Confort      3.844828\n",
      "4                               Audio      3.820000\n",
      "41  Furniture_Mattress_And_Upholstery      3.815789\n",
      "27             Fashio_Female_Clothing      3.750000\n",
      "23                Diapers_And_Hygiene      3.740741\n",
      "46                     Home_Comfort_2      3.708333\n",
      "30              Fashion_Male_Clothing      3.617886\n",
      "57                   Office_Furniture      3.584037\n",
      "71                             unkown      3.136021\n",
      "61              Security_And_Services      2.500000\n"
     ]
    }
   ],
   "source": [
    "# Calculate the average rating for each category\n",
    "category_ratings = df.groupby('product_category_name')['review_score'].mean().reset_index()\n",
    "\n",
    "# Sort the categories by average rating in descending order\n",
    "category_ratings_sorted = category_ratings.sort_values('review_score', ascending=False)\n",
    "\n",
    "# Top 10 categories with the maximum rating\n",
    "top_10_max_rated_categories = category_ratings_sorted.head(10)\n",
    "print(\"Top 10 Categories with Maximum Rating:\")\n",
    "print(top_10_max_rated_categories[['product_category_name', 'review_score']])\n",
    "\n",
    "# Top 10 categories with the minimum rating\n",
    "top_10_min_rated_categories = category_ratings_sorted.tail(10)\n",
    "print(\"Top 10 Categories with Minimum Rating:\")\n",
    "print(top_10_min_rated_categories[['product_category_name', 'review_score']])"
   ]
  },
  {
   "cell_type": "code",
   "execution_count": 89,
   "id": "3d28d201",
   "metadata": {},
   "outputs": [
    {
     "name": "stdout",
     "output_type": "stream",
     "text": [
      "Top 10 products with maximum ratings:\n",
      "                             product_id  review_score\n",
      "0      00066f42aeeb9f3007548bb9d3f33c38           5.0\n",
      "12378  5f88f5e2b16a63a297be961b7f4f2e68           5.0\n",
      "12338  5f3e86b7e537b8d2d993596c969b69a6           5.0\n",
      "12339  5f3f5c80596311932d5e05800909f37c           5.0\n",
      "12340  5f416bfe77190b2f1c9de649d926e56a           5.0\n",
      "12344  5f4717c32cb957e5faf8d9271dce3fd5           5.0\n",
      "25459  c5ef13c4546279ceb81432eaef3cef41           5.0\n",
      "25458  c5edc6d6a54cbcc12367409391fdfc50           5.0\n",
      "12347  5f4a2dd6b0e07a858c761e41abc8ec8c           5.0\n",
      "12348  5f4bceafafc1903556735cb7f2842e78           5.0\n",
      "Top 10 products with minimum ratings:\n",
      "                             product_id  review_score\n",
      "28376  dc2bd3d07579e7f3b185c7118e33c33e           1.0\n",
      "16293  7dca7157b8f883274a06fda9cec3fed5           1.0\n",
      "18732  91aafdd30514579d1568b6f5ae9f4d46           1.0\n",
      "16288  7db522185b13bcf14ea1bdb147463547           1.0\n",
      "28385  dc3ecc737589882b0318d38cf8b3efaf           1.0\n",
      "23164  b48d3e49914549b781c0b59f819b398e           1.0\n",
      "31039  f0fe4af158ebc28426b794c0b54d3df1           1.0\n",
      "3177   1823142d83a24b619bebd0088d7f95d9           1.0\n",
      "31041  f10163ef5dd01ee5f3622b750b64091c           1.0\n",
      "25125  c36f1190b3cb7fac6c7bc68483317029           1.0\n"
     ]
    }
   ],
   "source": [
    "# Calculate the average rating for each product\n",
    "product_ratings = df.groupby('product_id')['review_score'].mean().reset_index()\n",
    "\n",
    "# Sort the DataFrame by rating in descending order\n",
    "sorted_products = product_ratings.sort_values('review_score', ascending=False)\n",
    "\n",
    "# Get the top 10 products with the maximum ratings\n",
    "top_10_max_rated_products = sorted_products.head(10)\n",
    "\n",
    "# Get the top 10 products with the minimum ratings\n",
    "top_10_min_rated_products = sorted_products.tail(10)\n",
    "\n",
    "# Print the result\n",
    "print(\"Top 10 products with maximum ratings:\")\n",
    "print(top_10_max_rated_products[['product_id', 'review_score']])\n",
    "\n",
    "print(\"Top 10 products with minimum ratings:\")\n",
    "print(top_10_min_rated_products[['product_id', 'review_score']])"
   ]
  },
  {
   "cell_type": "code",
   "execution_count": 90,
   "id": "3d33bd3b",
   "metadata": {},
   "outputs": [
    {
     "name": "stdout",
     "output_type": "stream",
     "text": [
      "         product_category_name  review_score\n",
      "0   Agro_Industry_And_Commerce      4.027322\n",
      "1             Air_Conditioning      3.984252\n",
      "2                          Art      4.004950\n",
      "3        Arts_And_Craftmanship      4.125000\n",
      "4                        Audio      3.820000\n",
      "..                         ...           ...\n",
      "67      Tablets_Printing_Image      4.075949\n",
      "68                   Telephony      3.971075\n",
      "69                        Toys      4.161347\n",
      "70               Watches_Gifts      4.028453\n",
      "71                      unkown      3.136021\n",
      "\n",
      "[72 rows x 2 columns]\n"
     ]
    }
   ],
   "source": [
    "# Customer satisfaction towards categories\n",
    "category_satisfaction = df.groupby('product_category_name')['review_score'].mean().reset_index()\n",
    "print(category_satisfaction)"
   ]
  },
  {
   "cell_type": "code",
   "execution_count": 91,
   "id": "4fd312ff",
   "metadata": {},
   "outputs": [
    {
     "name": "stdout",
     "output_type": "stream",
     "text": [
      "                             product_id  review_score\n",
      "0      00066f42aeeb9f3007548bb9d3f33c38      5.000000\n",
      "1      00088930e925c41fd95ebfe695fd2655      4.000000\n",
      "2      0009406fd7479715e4bef61dd91f2462      1.000000\n",
      "3      000b8f95fcb9e0096488278317764d19      5.000000\n",
      "4      000d9be29b5207b54e86aa1b1ac54872      5.000000\n",
      "...                                 ...           ...\n",
      "32947  fff81cc3158d2725c0655ab9ba0f712c      4.000000\n",
      "32948  fff9553ac224cec9d15d49f5a263411f      5.000000\n",
      "32949  fffdb2d0ec8d6a61f0a0a0db3f25b441      5.000000\n",
      "32950  fffe9eeff12fcbd74a2f2b007dde0c58      4.000000\n",
      "32951                            unkown      1.717419\n",
      "\n",
      "[32952 rows x 2 columns]\n"
     ]
    }
   ],
   "source": [
    "# Customer satisfaction towards products\n",
    "product_satisfaction = df.groupby('product_id')['review_score'].mean().reset_index()\n",
    "print(product_satisfaction)"
   ]
  },
  {
   "cell_type": "code",
   "execution_count": 92,
   "id": "d56521ad",
   "metadata": {},
   "outputs": [
    {
     "name": "stdout",
     "output_type": "stream",
     "text": [
      "       customer_state  review_score\n",
      "0      Andhra Pradesh      4.026516\n",
      "1   Arunachal Pradesh      4.092014\n",
      "2        Chhattisgarh      4.058365\n",
      "3               Delhi      4.034022\n",
      "4                 Goa      4.800000\n",
      "5             Gujarat      4.057445\n",
      "6             Haryana      4.115552\n",
      "7    Himachal Pradesh      3.987013\n",
      "8     Jammu & Kashmir      4.034311\n",
      "9           Karnataka      4.038318\n",
      "10             Kerala      4.109068\n",
      "11     Madhya Pradesh      4.048518\n",
      "12        Maharashtra      4.099904\n",
      "13             Orissa      4.125000\n",
      "14             Punjab      4.175966\n",
      "15          Rajasthan      4.157195\n",
      "16         Tamil Nadu      4.137255\n",
      "17      Uttar Pradesh      4.138258\n",
      "18        Uttaranchal      3.858586\n",
      "19        West Bengal      4.051546\n"
     ]
    }
   ],
   "source": [
    "# Average rating by location\n",
    "location_rating = df.groupby('customer_state')['review_score'].mean().reset_index()\n",
    "print(location_rating)"
   ]
  },
  {
   "cell_type": "code",
   "execution_count": 93,
   "id": "216a7356",
   "metadata": {},
   "outputs": [
    {
     "name": "stdout",
     "output_type": "stream",
     "text": [
      "                             seller_id  review_score\n",
      "0     0015a82c2db000af6aaaf3ae2ecb0532      3.666667\n",
      "1     001cca7ae9ae17fb1caed9dfb1094831      3.935323\n",
      "2     001e6ad469a905060d959994f1b41e4f      1.000000\n",
      "3     002100f778ceb8431b7a1020ff7ab48f      3.981818\n",
      "4     003554e2dce176b5555353e4f3555ac8      5.000000\n",
      "...                                ...           ...\n",
      "3091  ffdd9f82b9a447f6f8d4b91554cc7dd3      4.333333\n",
      "3092  ffeee66ac5d5a62fe688b9d26f83f534      4.214286\n",
      "3093  fffd5413c0700ac820c7069d66d98c89      3.866667\n",
      "3094  ffff564a4f9085cd26170f4732393726      2.100000\n",
      "3095                            unkown      1.717419\n",
      "\n",
      "[3096 rows x 2 columns]\n"
     ]
    }
   ],
   "source": [
    "# Average rating by seller\n",
    "seller_rating = df.groupby('seller_id')['review_score'].mean().reset_index()\n",
    "print(seller_rating)"
   ]
  },
  {
   "cell_type": "code",
   "execution_count": 94,
   "id": "67ed6371",
   "metadata": {},
   "outputs": [
    {
     "name": "stdout",
     "output_type": "stream",
     "text": [
      "   Month_year  review_score\n",
      "0     2016-09      1.000000\n",
      "1     2016-10      3.483965\n",
      "2     2016-12      5.000000\n",
      "3     2017-01      4.038323\n",
      "4     2017-02      3.991848\n",
      "5     2017-03      4.047258\n",
      "6     2017-04      4.024607\n",
      "7     2017-05      4.114234\n",
      "8     2017-06      4.109887\n",
      "9     2017-07      4.129563\n",
      "10    2017-08      4.211462\n",
      "11    2017-09      4.145467\n",
      "12    2017-10      4.059772\n",
      "13    2017-11      3.859429\n",
      "14    2017-12      3.971219\n",
      "15    2018-01      3.982419\n",
      "16    2018-02      3.789199\n",
      "17    2018-03      3.709409\n",
      "18    2018-04      4.106827\n",
      "19    2018-05      4.153146\n",
      "20    2018-06      4.242864\n",
      "21    2018-07      4.228536\n",
      "22    2018-08      4.207425\n",
      "23    2018-09      1.750000\n",
      "24    2018-10      2.250000\n"
     ]
    }
   ],
   "source": [
    "# Average rating by month\n",
    "df['Month_year'] = pd.to_datetime(df['order_purchase_timestamp']).dt.to_period('M')\n",
    "month_rating = df.groupby('Month_year')['review_score'].mean().reset_index()\n",
    "print(month_rating)"
   ]
  },
  {
   "cell_type": "code",
   "execution_count": null,
   "id": "68d13abc",
   "metadata": {},
   "outputs": [],
   "source": []
  }
 ],
 "metadata": {
  "kernelspec": {
   "display_name": "Python 3 (ipykernel)",
   "language": "python",
   "name": "python3"
  },
  "language_info": {
   "codemirror_mode": {
    "name": "ipython",
    "version": 3
   },
   "file_extension": ".py",
   "mimetype": "text/x-python",
   "name": "python",
   "nbconvert_exporter": "python",
   "pygments_lexer": "ipython3",
   "version": "3.9.7"
  }
 },
 "nbformat": 4,
 "nbformat_minor": 5
}
